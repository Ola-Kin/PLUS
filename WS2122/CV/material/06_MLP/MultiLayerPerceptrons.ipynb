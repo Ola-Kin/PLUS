{
 "cells": [
  {
   "cell_type": "markdown",
   "metadata": {},
   "source": [
    "# Computer Vision (911.908)\n",
    "\n",
    "## <font color='crimson'>Multilayer perceptrons (MLPs)</font>\n",
    "\n",
    "**Changelog**:\n",
    "- *Sep. 2020*: initial version (using PyTorch v1.6) \n",
    "- *Sep. 2021*: adaptations to PyTorch v1.9\n",
    "\n",
    "---\n",
    "\n",
    "In this lecture, we will learn about a multi-layer extension of the simple Perceptron\n",
    "model, aka **Multilayer Perceptrons (MLPs)** and also look at **activation functions**. \n",
    "\n",
    "Finally, we will briefly look at the **universal approximation theorem** for MLPs and some extensions."
   ]
  },
  {
   "cell_type": "markdown",
   "metadata": {},
   "source": [
    "---\n",
    "## Content\n",
    "\n",
    "- [Model](#Model)\n",
    "- [Activation functions](#Activation-functions)\n",
    "- [PyTorch building blocks for MLPs](#PyTorch-building-blocks-for-MLPs)\n",
    "- [Universal approximation theorem](#Universal-approximation-theorem-(UAT))   "
   ]
  },
  {
   "cell_type": "markdown",
   "metadata": {},
   "source": [
    "---\n",
    "## Model\n",
    "\n",
    "In the **perceptron model**, we directly mapped from inputs, $\\mathbf{x}$, to $\\{0,1\\}$ via\n",
    "\n",
    "$$ f(\\mathbf{x},\\mathbf{w}) = \\phi (\\langle \\mathbf{x},\\mathbf{w}\\rangle)\\enspace,\n",
    "$$\n",
    "\n",
    "where the bias is included in $\\mathbf{w}$ and $\\mathbf{x}$ is extended by a 1 at position 0. $\\phi$ (activation) was the **threshold function**.\n",
    "\n",
    "However, we do not necessarily have to directly map from $\\mathbb{R}^d$ to $\\mathbb{R}$ and then apply a threshold as an activation function.\n",
    "\n",
    "In general, we could have a mapping\n",
    "\n",
    "$$ f: \\mathbb{R}^d \\to \\mathbb{R}^e, \\quad \\mathbf{x} \\mapsto \\psi( \\mathbf{W} \\mathbf{x}+ \\mathbf{b})$$\n",
    "\n",
    "with a general activation function $\\psi: \\mathbb{R} \\to \\mathbb{R}$ which is applied pointwise to each element of the output and $\\mathbf{x} \\in \\mathbb{R}^{d}$, $\\mathbf{W} \\in \\mathbb{R}^{d \\times e}$, $\\mathbf{b} \\in \\mathbb{R}^e$.\n",
    " \n",
    "In fact, this concept can be used to build up a hierarchy of operations, e.g.:\n",
    "\n",
    "$$\\forall l=1,\\ldots,L: \\mathbf{x}^{(l)} = \n",
    "\\psi\\left( \\mathbf{W}^{(l)} \\mathbf{x}^{(l)} + \\mathbf{b}^{(l)}\\right)\n",
    "$$\n",
    "\n",
    "where $\\mathbf{x}^{(0)} = \\mathbf{x}$ (input) and $\\mathbf{x}^{(l-1)}$ denotes the output at **layer** $l-1$. Overall, the function implemented this way is \n",
    "\n",
    "$$\n",
    "f\\left(\\mathbf{x}, \\{\\mathbf{W}^{(l)}\\}_{l=1}^L, \\{\\mathbf{b}^{(l)}\\}_{l=1}^L\\right) = \\mathbf{x}^{(L)}\n",
    "$$\n",
    "\n",
    "We call such a model a **multilayer perceptron (MLP)**. Notably, if $\\psi$ is linear, then $f$ is an affine function and we could implement this hierarchy by a **single** layer.\n",
    "\n",
    "Adhering to the common terminology, we would call the original perceptron a *zero hidden layer* MLP. We will discuss an important property of a *one hidden layer MLP* later."
   ]
  },
  {
   "cell_type": "markdown",
   "metadata": {},
   "source": [
    "--- \n",
    "\n",
    "## Activation functions\n",
    "\n",
    "Below are some common activation functions."
   ]
  },
  {
   "cell_type": "code",
   "execution_count": 1,
   "metadata": {},
   "outputs": [],
   "source": [
    "%matplotlib inline\n",
    "\n",
    "import matplotlib.pyplot as plt\n",
    "from torch.nn.functional import relu, sigmoid\n",
    "import torch"
   ]
  },
  {
   "cell_type": "markdown",
   "metadata": {},
   "source": [
    "**Hyperbolic tangent**\n",
    "\n",
    "$$\\tanh(z) = \\frac{\\sinh(z)}{\\cosh(s)}$$\n",
    "\n",
    "**Rectified Linear Unit (ReLU)**\n",
    "\n",
    "$$\\text{ReLU}(z) = \\max\\{0,z\\}$$\n",
    "\n",
    "**Sigmoid**\n",
    "\n",
    "$$\\text{sigm}(z) = \\frac{1}{1+\\exp(-z)}$$"
   ]
  },
  {
   "cell_type": "code",
   "execution_count": 2,
   "metadata": {},
   "outputs": [
    {
     "data": {
      "image/png": "[encoded data removed]",
      "text/plain": [
       "<Figure size 432x288 with 1 Axes>"
      ]
     },
     "metadata": {
      "needs_background": "light"
     },
     "output_type": "display_data"
    }
   ],
   "source": [
    "z = torch.linspace(-5,5,100)\n",
    "\n",
    "plt.plot(z.numpy(), \n",
    "         torch.tanh(z).numpy(), \n",
    "         linewidth=3, color='red', label='tanh')\n",
    "\n",
    "plt.plot(z.numpy(), \n",
    "         torch.relu(z).numpy(), \n",
    "         linewidth=3, color='blue', label='ReLU')\n",
    "\n",
    "plt.plot(z.numpy(), \n",
    "         torch.sigmoid(z).numpy(), \n",
    "         linewidth=3, color='black', label='sigmoid')\n",
    "\n",
    "plt.grid()\n",
    "plt.xlabel('z');\n",
    "plt.xlabel('Activation')\n",
    "plt.legend();"
   ]
  },
  {
   "cell_type": "markdown",
   "metadata": {},
   "source": [
    "---\n",
    "\n",
    "## PyTorch building blocks for MLPs"
   ]
  },
  {
   "cell_type": "markdown",
   "metadata": {},
   "source": [
    "PyTorch makes our life very easy to implement MLPs. In particular, we have affine maps (aka **linear** or **fully-connected** layers) available via `torch.nn.Linear`. \n",
    "\n",
    "We already have activation functions as well (either via, e.g., `nn.ReLU` or `torch.nn.functional.relu` in case of ReLU activations).\n",
    "\n",
    "Via PyTorch's `torch.nn.Sequential` container, we can easily stack them together, by listing all the modules in the order that we want the input to be processed.\n",
    "\n",
    "Hence, we can already build a simple two layer MLP, mapping from 10-dimensional input to 2-dim. outputs."
   ]
  },
  {
   "cell_type": "code",
   "execution_count": 3,
   "metadata": {},
   "outputs": [
    {
     "name": "stdout",
     "output_type": "stream",
     "text": [
      "torch.Size([16, 2])\n"
     ]
    }
   ],
   "source": [
    "import torch.nn as nn\n",
    "\n",
    "lay0 = nn.Linear(10, 5) # implements an affine map A_1x + b_1\n",
    "act0 = nn.ReLU()\n",
    "lay1 = nn.Linear(5, 2) # implements an affine map A_2x + b_2\n",
    "\n",
    "# remark: you can disable the bias terms via bias=False\n",
    "# e.g.,: lay0 = nn.Linear(10,5, bias=False) implements A_1x\n",
    "\n",
    "mlp  = nn.Sequential(lay0, \n",
    "                     act0, \n",
    "                     lay1) \n",
    "\n",
    "# input\n",
    "x = torch.rand(16,10)\n",
    "\n",
    "# forward pass\n",
    "out = mlp(x)\n",
    "print(out.size())"
   ]
  },
  {
   "cell_type": "markdown",
   "metadata": {},
   "source": [
    "We'll see a more elegant (and actually the best-practice way) of doing this in a second."
   ]
  },
  {
   "cell_type": "markdown",
   "metadata": {},
   "source": [
    "---\n",
    "\n",
    "## Universal approximation theorem (UAT)\n",
    "\n",
    "The universal approximation theorem is very well stated on [Wikipedia](https://en.wikipedia.org/wiki/Universal_approximation_theorem).\n",
    "\n",
    "Let $\\psi: \\mathbb{R} \\to \\mathbb{R}$ be a <font color='red'>nonconstant</font>, <font color='red'>bounded</font>, and <font color='red'>continuous</font> function. Let $I_m$ denote the $m$-dimensional unit hypercube $[0,1]^m$. The space of real-valued continuous functions on $I_m$ is denoted by $\\mathcal{C}(I_m)$. Then, given any $\\epsilon>0$ and any function $f \\in \\mathcal{C}(I_m)$, there <font color='red'>exists</font> an integer $N$, real constants $v_i,b_i \\in \\mathbb{R}$ and real vectors $\\mathbf{w}_i \\in \\mathbb{R}^m$ for $i=1,\\ldots,N$ such that we may define\n",
    "\n",
    "$$\n",
    "F(\\mathbf{x}) = \\sum_{i=1}^N v_i \\psi(\\mathbf{w}_i^\\top \\mathbf{x}+b_i)\n",
    "$$\n",
    "\n",
    "as an approximate realization of the function $f$, i.e., \n",
    "\n",
    "$$\n",
    "\\forall \\mathbf{x} \\in I_m : |F(\\mathbf{x})-f(\\mathbf{x})| < \\epsilon\n",
    "$$\n",
    "\n",
    "Hence, functions of the form $F(\\mathbf{x})$ are <font color='red'>dense</font> in \n",
    "$\\mathcal{C}(I_m)$ and we can approximate $f$ to arbitrary accuracy ($\\epsilon$). A first variant of this theorem was obtained by Cybenko (1989) and later extended by Hornik (1991).\n",
    "\n",
    "**Remark**: The theorem is an *existence* statement and does not say anything about whether we can actually obtain such an approximation via optimization of a one hidden layer MLP.\n",
    "\n",
    "**Extension 1**\n",
    "\n",
    "The result also holds when replacing $I_m$ by any compact subset of $\\mathbb{R}^m$.\n",
    "\n",
    "**Extension 2**\n",
    "\n",
    "You may have noticed the assumptions on $\\psi$, i.e., nonconstant, bounded and continuous. Obviously, the most common activation function used in deep learning, e.g., the ReLU, is unbounded. Fortunately, Sonoda & Murata (2015) showed that the universal approximation property is also obtained with ReLU's, see [here](https://arxiv.org/pdf/1505.03654.pdf).\n",
    "\n",
    "\n"
   ]
  },
  {
   "cell_type": "markdown",
   "metadata": {},
   "source": [
    "### Experiment\n",
    "\n",
    "Lets create some 1D toy data for $f(x) = \\sin(x)$ first with $x \\in [-2\\pi,2\\pi]$ (also adding some normally distributed noise)."
   ]
  },
  {
   "cell_type": "code",
   "execution_count": 4,
   "metadata": {},
   "outputs": [],
   "source": [
    "import numpy as np\n",
    "import math\n",
    "\n",
    "function_to_learn = lambda x: np.sin(x) + \\\n",
    "    0.1*np.random.randn(*x.shape)"
   ]
  },
  {
   "cell_type": "code",
   "execution_count": 5,
   "metadata": {},
   "outputs": [
    {
     "data": {
      "image/png": "[encoded data removed]",
      "text/plain": [
       "<Figure size 432x288 with 1 Axes>"
      ]
     },
     "metadata": {
      "needs_background": "light"
     },
     "output_type": "display_data"
    }
   ],
   "source": [
    "# Training\n",
    "trn_x = np.float32(\n",
    "    np.random.uniform(-2*math.pi, \n",
    "                      +2*math.pi, \n",
    "                      (1, 1000))).T\n",
    "# Testing\n",
    "tst_x = np.float32(\n",
    "    np.random.uniform(-2*math.pi, \n",
    "                      +2*math.pi, \n",
    "                      (1, 1000))).T\n",
    "\n",
    "all_x = np.concatenate((trn_x, tst_x),axis=0)\n",
    "plt.plot(all_x, function_to_learn(all_x), 'r.')\n",
    "plt.xlabel('x')\n",
    "plt.ylabel('sin(x) + N(0,1) noise')\n",
    "plt.title('Toy data')\n",
    "plt.grid();"
   ]
  },
  {
   "cell_type": "markdown",
   "metadata": {},
   "source": [
    "Lets create our one hidden layer network, parametrized by the number of hidden units `H`. We'll have `D_in=1` and `D_out=1` in our experiment."
   ]
  },
  {
   "cell_type": "code",
   "execution_count": 6,
   "metadata": {},
   "outputs": [],
   "source": [
    "class Net(torch.nn.Module):\n",
    "    def __init__(self, D_in, H, D_out):\n",
    "        super(Net, self).__init__()\n",
    "        \n",
    "        self.w1 = torch.nn.Linear(D_in, H)\n",
    "        self.w2 = torch.nn.Linear(H, D_out)\n",
    "\n",
    "    def forward(self, x):\n",
    "        x = torch.relu(self.w1(x))\n",
    "        x = self.w2(x)\n",
    "        return x"
   ]
  },
  {
   "cell_type": "markdown",
   "metadata": {},
   "source": [
    "Next, we instantiate the model."
   ]
  },
  {
   "cell_type": "code",
   "execution_count": 51,
   "metadata": {},
   "outputs": [],
   "source": [
    "H = 80\n",
    "model = Net(1, H, 1) # the interesting parameter here is H"
   ]
  },
  {
   "cell_type": "markdown",
   "metadata": {},
   "source": [
    "Then, we (1) define our loss - which will be the mean-squared-error (MSE) - and (2) set the optimizer to Adam with a learning rate of $0.001$ (we will learn more about Adam and training details later). We train for $10,000$ epochs, i.e., $10,000$ runs over all our $1,000$ samples."
   ]
  },
  {
   "cell_type": "code",
   "execution_count": 53,
   "metadata": {},
   "outputs": [
    {
     "name": "stdout",
     "output_type": "stream",
     "text": [
      "Epoch     0 | Loss: 4044.53\n",
      "Epoch  1000 | Loss: 76.99\n",
      "Epoch  2000 | Loss: 23.95\n",
      "Epoch  3000 | Loss: 20.06\n",
      "Epoch  4000 | Loss: 19.61\n",
      "Epoch  5000 | Loss: 19.49\n",
      "Epoch  6000 | Loss: 19.43\n",
      "Epoch  7000 | Loss: 19.34\n",
      "Epoch  8000 | Loss: 19.25\n",
      "Epoch  9000 | Loss: 19.20\n"
     ]
    }
   ],
   "source": [
    "criterion = torch.nn.MSELoss(\n",
    "    reduction='sum')\n",
    "optimizer = torch.optim.Adam(\n",
    "    model.parameters(), lr=1e-3)\n",
    "\n",
    "x = torch.tensor(all_x, \n",
    "                 dtype=torch.float32)\n",
    "y = torch.tensor(function_to_learn(all_x), \n",
    "                 dtype=torch.float32)\n",
    "\n",
    "for t in range(10000):\n",
    "    \n",
    "    optimizer.zero_grad()\n",
    "\n",
    "    y_pred = model(x)\n",
    "    loss = criterion(y_pred, y)\n",
    "    loss.backward()\n",
    "    optimizer.step()\n",
    "    \n",
    "    if t % 1000 == 0:\n",
    "        print('Epoch {:5d} | Loss: {:.2f}'.format(\n",
    "            t, loss.item()))"
   ]
  },
  {
   "cell_type": "markdown",
   "metadata": {},
   "source": [
    "Ok, lets evaluate our model on unseen data."
   ]
  },
  {
   "cell_type": "code",
   "execution_count": 54,
   "metadata": {},
   "outputs": [
    {
     "data": {
      "image/png": "[encoded data removed]",
      "text/plain": [
       "<Figure size 432x288 with 1 Axes>"
      ]
     },
     "metadata": {
      "needs_background": "light"
     },
     "output_type": "display_data"
    }
   ],
   "source": [
    "tst_x_tensor = torch.tensor(tst_x)\n",
    "\n",
    "plt.plot(tst_x, \n",
    "         function_to_learn(tst_x),'b.', \n",
    "         label='Testing data')\n",
    "plt.plot(tst_x, \n",
    "         model(tst_x_tensor).detach().numpy(),'r.', \n",
    "         label='Predictions')\n",
    "plt.grid()\n",
    "plt.legend();"
   ]
  },
  {
   "cell_type": "markdown",
   "metadata": {},
   "source": [
    "**Not bad!** As the UAT also does not state anything about the relation to the number of hidden units ($N$ in the theorem, `H` in our code), you sort of have to play around with this term to see the effect (e.g., set `H` to 80)."
   ]
  },
  {
   "cell_type": "markdown",
   "metadata": {},
   "source": [
    "# A simple MLP for MNIST digit images"
   ]
  },
  {
   "cell_type": "code",
   "execution_count": 17,
   "metadata": {},
   "outputs": [],
   "source": [
    "class MNIST_Net(torch.nn.Module):\n",
    "    def __init__(self):\n",
    "        super(MNIST_Net, self).__init__()\n",
    "        \n",
    "        self.w1 = torch.nn.Linear(28*28, 100)\n",
    "        self.w2 = torch.nn.Linear(100,    10)\n",
    "\n",
    "    def forward(self, x):\n",
    "        x = torch.relu(self.w1(x))\n",
    "        x = self.w2(x)\n",
    "        return x"
   ]
  },
  {
   "cell_type": "code",
   "execution_count": 18,
   "metadata": {},
   "outputs": [],
   "source": [
    "from torchvision import datasets, transforms\n",
    "\n",
    "transform = transforms.Compose([\n",
    "    transforms.ToTensor(),\n",
    "    transforms.Normalize((0.5,), (0.5,))])\n",
    "\n",
    "ds = datasets.MNIST('./data', \n",
    "                    train=True, \n",
    "                    download=True, \n",
    "                    transform=transform)"
   ]
  },
  {
   "cell_type": "code",
   "execution_count": 19,
   "metadata": {},
   "outputs": [
    {
     "data": {
      "image/png": "[encoded data removed]",
      "text/plain": [
       "<Figure size 432x288 with 1 Axes>"
      ]
     },
     "metadata": {
      "needs_background": "light"
     },
     "output_type": "display_data"
    }
   ],
   "source": [
    "plt.imshow(ds[0][0].numpy()[0,:,:], cmap='gray');\n",
    "plt.title('Number: {}'.format(ds[0][1]));"
   ]
  },
  {
   "cell_type": "code",
   "execution_count": 60,
   "metadata": {},
   "outputs": [
    {
     "name": "stdout",
     "output_type": "stream",
     "text": [
      "torch.Size([1, 28, 28])\n",
      "torch.Size([1, 784])\n",
      "torch.Size([1, 10])\n"
     ]
    }
   ],
   "source": [
    "net = MNIST_Net()\n",
    "img = ds[0][0]\n",
    "print(img.size())\n",
    "img_v = img.view(1,28*28)\n",
    "print(img_v.size())\n",
    "out = net(img_v)\n",
    "print(out.size())\n",
    "# now we would have to do something with this output which \n",
    "# we will learn in our loss functions lecture."
   ]
  },
  {
   "cell_type": "code",
   "execution_count": 73,
   "metadata": {},
   "outputs": [
    {
     "name": "stdout",
     "output_type": "stream",
     "text": [
      "torch.Size([64, 10])\n"
     ]
    }
   ],
   "source": [
    "dl = torch.utils.data.DataLoader(ds, batch_size=64, shuffle=True)\n",
    "batch = next(iter(dl))\n",
    "out = net(batch[0].view(batch[0].size(0),-1))\n",
    "print(out.size())"
   ]
  }
 ],
 "metadata": {
  "kernelspec": {
   "display_name": "Python 3",
   "language": "python",
   "name": "python3"
  },
  "language_info": {
   "codemirror_mode": {
    "name": "ipython",
    "version": 3
   },
   "file_extension": ".py",
   "mimetype": "text/x-python",
   "name": "python",
   "nbconvert_exporter": "python",
   "pygments_lexer": "ipython3",
   "version": "3.8.8"
  }
 },
 "nbformat": 4,
 "nbformat_minor": 4
}
