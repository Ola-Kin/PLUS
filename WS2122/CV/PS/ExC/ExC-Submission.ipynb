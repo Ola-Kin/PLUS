{
 "cells": [
  {
   "cell_type": "markdown",
   "metadata": {},
   "source": [
    "# Computer Vision PS (WS21/22)\n",
    "\n",
    "## Exercise sheet C (ExC)\n",
    "\n",
    "**Group members**: *please list all group members here*\n",
    "\n",
    "**Total (possible) points**: 8\n",
    "\n",
    "---"
   ]
  },
  {
   "cell_type": "code",
   "execution_count": 1,
   "metadata": {},
   "outputs": [],
   "source": [
    "%load_ext autoreload\n",
    "%autoreload 2\n",
    "\n",
    "%matplotlib inline\n",
    "import matplotlib.pyplot as plt\n",
    "\n",
    "import numpy as np\n",
    "\n",
    "import torch\n",
    "import torch.nn as nn\n",
    "from torch.optim import SGD"
   ]
  },
  {
   "cell_type": "markdown",
   "metadata": {},
   "source": [
    "## ExC.1 (8 points)\n",
    "\n",
    "In this exercise, we are given $N$ points on a 1-sphere\n",
    "\n",
    "$$\\mathbb{S}^1 = \\{\\mathbf{x} \\in \\mathbb{R}^2: \\| \\mathbf{x} \\|=1\\}\\enspace,$$\n",
    "\n",
    "i.e., a circle. We define an **energy** for these points as\n",
    "\n",
    "$$ E_2(\\mathbf{x}_1,\\ldots,\\mathbf{x}_N) = \\sum_{i=1}^N\\sum_{j=1}^N \\mathbf{1}_{i\\neq j} \\frac{1}{\\|\\mathbf{x}_i - \\mathbf{x}_j \\|^2} $$\n",
    "\n",
    "where $\\mathbf{1}_{i\\neq j}=1$ if $i \\neq j$ and 0 else. Our goal is to find the configuration of the $N$ points $\\mathbf{x}_1,\\ldots,\\mathbf{x}_N$ such that $E_2$ is **minimized**. \n",
    "\n",
    "We will do this by using PyTorch's SGD optimizer (i.e., Stochastic Gradient Descent) which we abuse for classic gradient descent. In our example, the points take the role of the *model parameters*. So, any gradient descent update will modify the point positions. In other words, after assembling all our $N$ points into a $N \\times 2$ matrix $\\mathbf{X}$, we compute\n",
    "\n",
    "$$ \\frac{\\partial E_2(\\mathbf{X})}{\\partial \\mathbf{X}}$$\n",
    "\n",
    "(via automatic differentiation) and update $\\mathbf{X}$ as\n",
    "\n",
    "$$ \\mathbf{X}^{(t+1)} = \\mathbf{X}^{(t)} - \\alpha  \\frac{\\partial E_2(\\mathbf{X})}{\\partial \\mathbf{X}}$$\n",
    "\n",
    "with $\\mathbf{X}^{(0)} = \\mathbf{X}$ and *learning rate $\\alpha>0$."
   ]
  },
  {
   "cell_type": "markdown",
   "metadata": {},
   "source": [
    "### Creating our data\n",
    "\n",
    "Lets first create some points by drawing $N=10$ iid samples from $\\mathcal{N}(\\mathbf{0},\\mathbf{I})$ and projecting them onto $\\mathbb{S}^1$ by dividing each sample by its norm. The helper routine `normalize` already does this for your."
   ]
  },
  {
   "cell_type": "code",
   "execution_count": 2,
   "metadata": {},
   "outputs": [],
   "source": [
    "def normalize(x): \n",
    "    x = x / torch.norm(x, dim=1, p=2, keepdim=True)\n",
    "    return x\n",
    "\n",
    "torch.manual_seed(1234)\n",
    "X = torch.randn(10,2)\n",
    "X = normalize(X)"
   ]
  },
  {
   "cell_type": "markdown",
   "metadata": {},
   "source": [
    "Lets visualize what we've got at this point."
   ]
  },
  {
   "cell_type": "code",
   "execution_count": 3,
   "metadata": {},
   "outputs": [],
   "source": [
    "def viz(points, draw_circle=False, draw_lines=False, title=None):\n",
    "    fig, ax = plt.subplots()\n",
    "    if draw_circle:\n",
    "        circ = plt.Circle((0, 0), 1.0, color='r', fill=False, linewidth=1)\n",
    "        ax.add_patch(circ)\n",
    "    ax.plot(points[:,0], \n",
    "            points[:,1],'.', color='black',markersize=7)\n",
    "    if draw_lines:\n",
    "        for i in range(points.size(0)):\n",
    "            plt.plot([0,points[i,0]], \n",
    "                     [0,points[i,1]], \n",
    "                     marker = 'o', \n",
    "                     color='black',\n",
    "                     linewidth=1)    \n",
    "    ax.set_aspect('equal', 'box')\n",
    "    if title is not None:\n",
    "        ax.set_title(title)"
   ]
  },
  {
   "cell_type": "code",
   "execution_count": 4,
   "metadata": {},
   "outputs": [
    {
     "data": {
      "image/png": "[encoded data removed]",
      "text/plain": [
       "<Figure size 432x288 with 1 Axes>"
      ]
     },
     "metadata": {
      "needs_background": "light"
     },
     "output_type": "display_data"
    }
   ],
   "source": [
    "viz(X,True,True,'Original points')"
   ]
  },
  {
   "cell_type": "markdown",
   "metadata": {},
   "source": [
    "### Optimization\n",
    "\n",
    "Now comes the interesting part. The following cell already contains some helper code upon which you can build your solution. In particular, implement the following steps\n",
    "\n",
    "1. zero gradients (using `opt.zero_grad()`)\n",
    "2. implement computation of the energy function $E_2$ from above\n",
    "3. perform a backward step (i.e., computing the gradients)\n",
    "4. take an optimizer step\n",
    "5. project back to S^1\n",
    "\n",
    "and iterate this part for, say 300 iterations at a learning rate of $0.01$ (but you can try other choices).\n",
    "\n",
    "**Importantly**, step (5) needs to be computed on `points.data` not to confuse the computation graph. To track progress throughout the update steps, I do recommend to append, after each update step, a clone of the current point configuration to a list `points_tracker`, e.g., via `points_tracker.append(torch.clone(points.data))`. \n",
    "\n",
    "As for setting the learning rate, try $0.01$."
   ]
  },
  {
   "cell_type": "code",
   "execution_count": 5,
   "metadata": {},
   "outputs": [],
   "source": [
    "points = torch.clone(X)              # clone the original data matrix\n",
    "points = normalize(points)           # project points onto S^1 \n",
    "points = torch.nn.Parameter(points)  # make points a torch.nn.Parameter for use in optimizer\n",
    "\n",
    "points_tracker = []                  # e.g., in case you want to track the point positions after each update\n",
    "\n",
    "#\n",
    "# YOUR CODE GOES HERE\n",
    "#"
   ]
  },
  {
   "cell_type": "markdown",
   "metadata": {},
   "source": [
    "If you kept track of the points after each update step (in the list `points_tracker`), you could visualize the progress, e.g., via"
   ]
  },
  {
   "cell_type": "code",
   "execution_count": null,
   "metadata": {},
   "outputs": [],
   "source": [
    "for i in [0,100,299]:\n",
    "    viz(points_tracker[i],True,True,'Update {}'.format(i))"
   ]
  },
  {
   "cell_type": "markdown",
   "metadata": {},
   "source": [
    "You can play around with different settings for $N$. For instance, take $N=3$ just for fun!"
   ]
  }
 ],
 "metadata": {
  "kernelspec": {
   "display_name": "Python 3",
   "language": "python",
   "name": "python3"
  },
  "language_info": {
   "codemirror_mode": {
    "name": "ipython",
    "version": 3
   },
   "file_extension": ".py",
   "mimetype": "text/x-python",
   "name": "python",
   "nbconvert_exporter": "python",
   "pygments_lexer": "ipython3",
   "version": "3.8.8"
  }
 },
 "nbformat": 4,
 "nbformat_minor": 2
}
