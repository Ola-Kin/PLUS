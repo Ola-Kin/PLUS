{
 "cells": [
  {
   "cell_type": "markdown",
   "id": "298fa5de",
   "metadata": {},
   "source": [
    "# Computer Vision PS (WS21/22)\n",
    "\n",
    "\n",
    "# Exercise sheet D (ExD)\n",
    "\n",
    "**Group members**: please list all group members here\n",
    "\n",
    "**Total (possible) points**: 14"
   ]
  },
  {
   "cell_type": "code",
   "execution_count": null,
   "id": "2ee35839",
   "metadata": {},
   "outputs": [],
   "source": [
    "import torch\n",
    "import torch.nn as nn\n",
    "from torch import tensor\n",
    "from torch.autograd import grad"
   ]
  },
  {
   "cell_type": "markdown",
   "id": "b8e07ff9",
   "metadata": {},
   "source": [
    "## ExD.1 (3 points)"
   ]
  },
  {
   "cell_type": "markdown",
   "id": "9dc70635",
   "metadata": {},
   "source": [
    "Let us assume we have a point $\\mathbf{x} \\in \\mathbb{R}^3$ and 10 additional points $\\mathbf{y}_1,\\ldots,\\mathbf{y}_{10}$ with $\\forall i: \\mathbf{y}_i \\in \\mathbb{R}^3$.\n",
    "\n",
    "Now, say we want to compute (1) \n",
    "\n",
    "$$\\mathbf{o}_{1i} = \\mathbf{y}_i^2\\enspace,$$\n",
    "\n",
    "then (2)\n",
    "\n",
    "$$ o_{2i} = \\exp\\left( \\frac{-\\| \\mathbf{x} - \\mathbf{o}_{1i} \\|^2}{\\sigma} \\right)$$\n",
    "\n",
    "followed by (3)\n",
    "\n",
    "$$ o_{3} = \\sum_{i} o_{2i}$$\n",
    "\n",
    "and (4)\n",
    "\n",
    "$$ o_4 = \\frac{1}{1+\\exp{(-o_3)}}$$\n",
    "\n",
    "If we want to minimize $o_4$ over $\\mathbf{y}_1,\\ldots,\\mathbf{y}_{10}$ via gradient descent, we need gradients wrt. those points, i.e.,\n",
    "\n",
    "$$ \\frac{\\partial o_4}{\\partial \\mathbf{y}_i}\\enspace.$$"
   ]
  },
  {
   "cell_type": "code",
   "execution_count": null,
   "id": "b259efa2",
   "metadata": {},
   "outputs": [],
   "source": [
    "# set random seed\n",
    "torch.manual_seed(123)\n",
    "\n",
    "y = torch.randn(10, 3, requires_grad=True)  # y_i's with respect to which we need gradients\n",
    "x = tensor([8.,3.,4.])                      # x"
   ]
  },
  {
   "cell_type": "markdown",
   "id": "db944972",
   "metadata": {},
   "source": [
    "Below is an implementation of (1)-(4) from above. Use `torch.autograd.grad` to compute gradients wrt. the $\\mathbf{y}_i$."
   ]
  },
  {
   "cell_type": "code",
   "execution_count": null,
   "id": "448935e1",
   "metadata": {},
   "outputs": [],
   "source": [
    "o1 = torch.pow(y, 2.)\n",
    "o2 = torch.exp(-(x-o1).norm(dim=1, p=2)**2)\n",
    "o3 = o2.sum()\n",
    "o4 = torch.sigmoid(o3)"
   ]
  },
  {
   "cell_type": "markdown",
   "id": "a67f1684",
   "metadata": {},
   "source": [
    "Compute $\\frac{\\partial o_4}{\\partial \\mathbf{y}_i}$ and explain why we do not get any useful gradients."
   ]
  },
  {
   "cell_type": "code",
   "execution_count": null,
   "id": "427e9469",
   "metadata": {},
   "outputs": [],
   "source": [
    "# YOUR CODE GOES HERE"
   ]
  },
  {
   "cell_type": "markdown",
   "id": "c429347d",
   "metadata": {},
   "source": [
    "**Explanation**: ..."
   ]
  },
  {
   "cell_type": "markdown",
   "id": "100d85f2",
   "metadata": {},
   "source": [
    "## ExD.2 (5 points)"
   ]
  },
  {
   "cell_type": "markdown",
   "id": "6b5e6220",
   "metadata": {},
   "source": [
    "Say we have a linear map $f: \\mathbb{R}^{100} \\to \\mathbb{R}^{45}, \\ \\mathbf{x} \\mapsto \\mathbf{A}\\mathbf{x}$, implemented via `nn.Linear(100, 45, bias=False)` and we want to compute the *Lipschitz* constant of this linear map. \n",
    "\n",
    "**Definition**: A function $f: \\mathbb{R}^n \\to \\mathbb{R}^m$ is called Lipschitz continuous if there exists a constant $L \\geq 0$ such that \n",
    "\n",
    "$$\\forall \\mathbf{x},\\mathbf{y} \\in \\mathbb{R}^n: \\| f(\\mathbf{x}) - f(\\mathbf{y})\\|_2 \\leq L \\| \\mathbf{x}-\\mathbf{y} \\|_2$$\n",
    "\n",
    "For a linear map (as above), the Lipschitz constant is given by the largest *singular value* of $\\mathbf{A}$.\n",
    "\n",
    "For this exercise, (1) initialize a linear layer with `nn.Linear(100, 45, bias=False)` and then (2) compute the Lipschitz constant (look into `torch.linalg` for help). Subsequently, write a function that takes, as arguments, a linear layer (i.e., a variable of type `nn.Linear`), a desired Lipschitz constant $L' \\geq 0$ and reconfigures the weight matrix such that this Lipschitz constant is satisfied."
   ]
  },
  {
   "cell_type": "code",
   "execution_count": null,
   "id": "cd6735bd",
   "metadata": {},
   "outputs": [],
   "source": [
    "torch.manual_seed(1234)\n",
    "# (1) initialize the linear layer in the configurations specified above\n",
    "# (2) compute Lipschitz constant (L)\n",
    "\n",
    "# YOUR CODE GOES HERE\n",
    "# print('L(f): {:.3f}'.format(L))"
   ]
  },
  {
   "cell_type": "code",
   "execution_count": null,
   "id": "c0b126b6",
   "metadata": {},
   "outputs": [],
   "source": [
    "def constrain(f: nn.Linear, L:float):\n",
    "    # YOUR CODE GOES HERE\"\n",
    "    pass"
   ]
  },
  {
   "cell_type": "markdown",
   "id": "ad72d073",
   "metadata": {},
   "source": [
    "## ExD.3 (6 points)"
   ]
  },
  {
   "cell_type": "markdown",
   "id": "e3db254c",
   "metadata": {},
   "source": [
    "Say you have a grayscale image of size $W \\times H$, i.e., one ``color'' channel. This image can be stored as a $1 \\times W \\times H$ tensor. In case you have multiple ($B$) such images, you could store them as a $B \\times 1 \\times W \\times H$ tensor."
   ]
  },
  {
   "cell_type": "code",
   "execution_count": null,
   "id": "df04c2a3",
   "metadata": {},
   "outputs": [],
   "source": [
    "# e.g., 6 (random) images of size 32x32\n",
    "torch.manual_seed(1234)\n",
    "img = torch.randn(6,1,32,32)"
   ]
  },
  {
   "cell_type": "markdown",
   "id": "86557fc3",
   "metadata": {},
   "source": [
    "The idea of this exercise is, to first split the image into $P \\times P$ patches (e.g., $8 \\times 8$), then vectorize each patch and forward each vectorized patch through a simple MLP, implementing\n",
    "\n",
    "$$f: \\mathbf{x} \\mapsto \\mathbf{B}\\text{ReLU}(\\mathbf{A}\\mathbf{x})$$\n",
    "\n",
    "where $\\mathbf{A} \\in \\mathbb{R}^{P^2 \\times P^2}$ and $\\mathbf{B} \\in \\mathbb{R}^{P^2 \\times 128}$. \n",
    "\n",
    "**Evaluation**: use the `img` tensor from above as input, and take $P=8$. The output should then be a tensor of size $6 \\times 16 \\times 128$.\n",
    "\n",
    "\n"
   ]
  },
  {
   "cell_type": "markdown",
   "id": "54f6ce12",
   "metadata": {},
   "source": [
    "The splitting into patches can be easily done using the `Rearrange` layer in the `einops` library (see [here](https://einops.rocks/)). You can install `einops` via \n",
    "\n",
    "```bash\n",
    "pip install einops\n",
    "```\n",
    "\n",
    "Below you find a working example of this strategy.\n",
    "\n",
    "**Important**: In the original version of this notebook, I wanted you to do this, but I accidentially included the solution :) \n",
    "\n",
    "So, the task now is to implement the same functionality via 2D convolutions (think about the correct size and stride of the convolution kernel)."
   ]
  },
  {
   "cell_type": "code",
   "execution_count": null,
   "id": "2ff7379d",
   "metadata": {},
   "outputs": [],
   "source": [
    "# imports that require einops\n",
    "from einops import rearrange, repeat\n",
    "from einops.layers.torch import Rearrange\n",
    "import torch.nn.functional as F"
   ]
  },
  {
   "cell_type": "code",
   "execution_count": null,
   "id": "fae7b986",
   "metadata": {},
   "outputs": [],
   "source": [
    "patch_H, patch_W = 8, 8\n",
    "patch_D = patch_W * patch_H\n",
    "embedding_dim = 128\n",
    "\n",
    "mapping = nn.Sequential(\n",
    "            Rearrange('b c (h p1) (w p2) -> b (h w) (p1 p2 c)', \n",
    "                       p1 = patch_H, \n",
    "                       p2 = patch_W),\n",
    "            nn.Linear(patch_D, patch_D, bias=False),\n",
    "            nn.ReLU(),\n",
    "            nn.Linear(patch_D, embedding_dim, bias=False)\n",
    "        )"
   ]
  },
  {
   "cell_type": "code",
   "execution_count": null,
   "id": "1fb0aef3",
   "metadata": {},
   "outputs": [],
   "source": [
    "import numpy as np\n",
    "np.sum([p.numel() for p in mapping.parameters()])"
   ]
  },
  {
   "cell_type": "code",
   "execution_count": null,
   "id": "cd293980",
   "metadata": {},
   "outputs": [],
   "source": [
    "# test with\n",
    "out = mapping(img)\n",
    "print(out.size())"
   ]
  },
  {
   "cell_type": "code",
   "execution_count": null,
   "id": "9b4bd5a3",
   "metadata": {},
   "outputs": [],
   "source": [
    "# Below is a template class that you can use \n",
    "\n",
    "class MyOp(nn.Module):\n",
    "    def __init__(self, patch_W=8, patch_H=8, embedding_dim=128):\n",
    "        super().__init__()\n",
    "        \n",
    "        assert patch_W == patch_H\n",
    "        \n",
    "        self.patch_W = patch_W\n",
    "        self.patch_H = patch_H\n",
    "        self.embedding_dim = embedding_dim\n",
    "        \n",
    "        #\n",
    "        #\n",
    "        # YOUR CODE GOES HERE ... defining the operations\n",
    "        #\n",
    "        #\n",
    "    \n",
    "    def forward(self, x):\n",
    "        #\n",
    "        #\n",
    "        # YOUR CODE GOES HERE ... defining the forward pass through the operations\n",
    "        #\n",
    "        #"
   ]
  },
  {
   "cell_type": "code",
   "execution_count": null,
   "id": "51934fb8",
   "metadata": {},
   "outputs": [],
   "source": [
    "# test with\n",
    "obj = MyOp(8,8,128)\n",
    "print(obj(img).size())"
   ]
  }
 ],
 "metadata": {
  "kernelspec": {
   "display_name": "Python 3 (ipykernel)",
   "language": "python",
   "name": "python3"
  },
  "language_info": {
   "codemirror_mode": {
    "name": "ipython",
    "version": 3
   },
   "file_extension": ".py",
   "mimetype": "text/x-python",
   "name": "python",
   "nbconvert_exporter": "python",
   "pygments_lexer": "ipython3",
   "version": "3.9.7"
  }
 },
 "nbformat": 4,
 "nbformat_minor": 5
}
