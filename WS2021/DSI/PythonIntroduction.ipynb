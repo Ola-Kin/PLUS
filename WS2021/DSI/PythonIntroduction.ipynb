{
 "cells": [
  {
   "cell_type": "markdown",
   "metadata": {},
   "source": [
    "# Introduction to Data Science\n",
    "\n",
    "## A very short tour through Python\n",
    "\n",
    "Roland Kwitt, WS 2020/2021"
   ]
  },
  {
   "cell_type": "markdown",
   "metadata": {},
   "source": [
    "## Names/Objects/Variables\n",
    "\n",
    "Python is completely **object oriented**, and **not** statically typed (but strongly typed). You do not need to declare variables (think of names assigned to an objects) before using them, or declare their type. Every variable in Python is an object with an ID and a state. Below are some examples. The `#` symbol marks a comment."
   ]
  },
  {
   "cell_type": "code",
   "execution_count": 35,
   "metadata": {},
   "outputs": [
    {
     "name": "stdout",
     "output_type": "stream",
     "text": [
      "4348238176 140629925198256 140629852865456\n",
      "1 2.1 foo\n",
      "3.1\n",
      "foobar\n"
     ]
    }
   ],
   "source": [
    "a = 1      # Integer\n",
    "b = 2.1    # Floating point number\n",
    "c = 'foo'  # String\n",
    "\n",
    "# Print IDs\n",
    "print(id(a), id(b), id(c))\n",
    "\n",
    "# Print State\n",
    "print(a,b,c)\n",
    "\n",
    "print(a + b)\n",
    "print(c + 'bar')"
   ]
  },
  {
   "cell_type": "markdown",
   "metadata": {},
   "source": [
    "Types are checked when the code is executed!"
   ]
  },
  {
   "cell_type": "code",
   "execution_count": 70,
   "metadata": {},
   "outputs": [],
   "source": [
    "if False:\n",
    "    var = 1 + \"foo\" # Never checked\n",
    "else:\n",
    "    var = 1 + 3"
   ]
  },
  {
   "cell_type": "markdown",
   "metadata": {},
   "source": [
    "## Data Structures\n",
    "\n",
    "We cover three basic data structures: \n",
    "\n",
    "- **tuples**, \n",
    "- **lists** and \n",
    "- **dictionaries**. \n",
    "\n",
    "Accessing elements of tuples and lists starts at the integer **0**. Note that in the example below, the dictionary has no immediate order, i.e., we access its elements by *keys* to get the *values*."
   ]
  },
  {
   "cell_type": "code",
   "execution_count": 69,
   "metadata": {},
   "outputs": [
    {
     "name": "stdout",
     "output_type": "stream",
     "text": [
      "10 3 1\n",
      "[4, 2, 3]\n"
     ]
    }
   ],
   "source": [
    "a = (10,2,3)           # Tuple\n",
    "b = [10,2,3]           # List\n",
    "c = {'x': 1, 'y': 2}   # Dictionary\n",
    "\n",
    "print(a[0],b[2],c['x'])"
   ]
  },
  {
   "cell_type": "markdown",
   "metadata": {},
   "source": [
    "Note that **tuples** are immutable, i.e., you cannot change values once declared. E.g., `a[0]=3` does not work, however, this works for the list `b`. This is also the reason why tuples can be used as *keys* in dictionaries, e.g.:"
   ]
  },
  {
   "cell_type": "code",
   "execution_count": 38,
   "metadata": {},
   "outputs": [
    {
     "name": "stdout",
     "output_type": "stream",
     "text": [
      "An error occurred while using a list as key\n"
     ]
    }
   ],
   "source": [
    "try:\n",
    "    c[a] = 10 # try to use tuple as key\n",
    "except TypeError:\n",
    "    print('An error occurred while using a tuple as key')\n",
    "\n",
    "try:\n",
    "    c[b] = 10 # try to use list as key (DOES NOT WORK)\n",
    "except TypeError:\n",
    "    print('An error occurred while using a list as key')"
   ]
  },
  {
   "cell_type": "markdown",
   "metadata": {},
   "source": [
    "## Functions"
   ]
  },
  {
   "cell_type": "code",
   "execution_count": 74,
   "metadata": {},
   "outputs": [
    {
     "name": "stdout",
     "output_type": "stream",
     "text": [
      "3\n",
      "5\n",
      "9\n",
      "None\n"
     ]
    }
   ],
   "source": [
    "# Function with two arguments returning the sum of those arguments\n",
    "def fun1(a, b):\n",
    "    c = a + b\n",
    "    return c\n",
    "\n",
    "print(fun1(1,2))\n",
    "\n",
    "# Function with two arguments, the second one is a named argument with a default value\n",
    "def fun2(a,b=2):\n",
    "    return a+b\n",
    "\n",
    "print(fun2(3))\n",
    "\n",
    "# Function with variable number of arguments\n",
    "def fun3(*args):\n",
    "    return args[0]+args[1]\n",
    "\n",
    "print(fun3(1,2,3,4,5,6,7,8,9))"
   ]
  },
  {
   "cell_type": "markdown",
   "metadata": {},
   "source": [
    "Note here that the `*` operator unpacks the sequence/collection into positional arguments, i.e., `args[0], ...`"
   ]
  },
  {
   "cell_type": "code",
   "execution_count": 40,
   "metadata": {},
   "outputs": [
    {
     "name": "stdout",
     "output_type": "stream",
     "text": [
      "{'a': 10, 'b': 20, 'c': 30}\n"
     ]
    }
   ],
   "source": [
    "def fun4(**kwargs):\n",
    "    print(kwargs)\n",
    "    \n",
    "fun4(a=10,b=20,c=30)"
   ]
  },
  {
   "cell_type": "markdown",
   "metadata": {},
   "source": [
    "The double star `**` does the same, only using a dictionary and thus named arguments."
   ]
  },
  {
   "cell_type": "markdown",
   "metadata": {},
   "source": [
    "## Iterating over data structures"
   ]
  },
  {
   "cell_type": "code",
   "execution_count": 79,
   "metadata": {},
   "outputs": [
    {
     "name": "stdout",
     "output_type": "stream",
     "text": [
      "10\n",
      "11\n",
      "12\n",
      "0 10\n",
      "1 11\n",
      "2 12\n",
      "10\n",
      "11\n",
      "12\n",
      "x 1\n",
      "y 2\n"
     ]
    }
   ],
   "source": [
    "b = [10,11,12]\n",
    "\n",
    "# Iterate over elements in list\n",
    "for e in b:\n",
    "    print(e)\n",
    "\n",
    "# Iterate over elements in list via enumerating them\n",
    "for i,element in enumerate(b):\n",
    "    print(i, element)\n",
    "    \n",
    "c = {'x': 1, 'y': 2} # Dictionary\n",
    "\n",
    "# Iterate over all (key,value) pairs in dictionary\n",
    "for key,value in c.items():\n",
    "    print(key,value)"
   ]
  },
  {
   "cell_type": "markdown",
   "metadata": {},
   "source": [
    "## Boolean variables + Control structures"
   ]
  },
  {
   "cell_type": "code",
   "execution_count": 42,
   "metadata": {},
   "outputs": [
    {
     "name": "stdout",
     "output_type": "stream",
     "text": [
      "1\n",
      "1\n",
      "1\n"
     ]
    }
   ],
   "source": [
    "a = True\n",
    "\n",
    "# If a is True print 1\n",
    "if a == True:\n",
    "    print(1)\n",
    "\n",
    "# Equivalent to previous statement\n",
    "if a: print(1)\n",
    "    \n",
    "# with an else clause\n",
    "if a:\n",
    "    print(1)\n",
    "else:\n",
    "    print(2)"
   ]
  },
  {
   "cell_type": "markdown",
   "metadata": {},
   "source": [
    "## Classes"
   ]
  },
  {
   "cell_type": "code",
   "execution_count": 80,
   "metadata": {},
   "outputs": [
    {
     "name": "stdout",
     "output_type": "stream",
     "text": [
      "F\n",
      "None\n"
     ]
    }
   ],
   "source": [
    "class Animal:\n",
    "    def __init__(self, age=None, gender=None):\n",
    "    \n",
    "        self.age = age\n",
    "        self.gender = gender\n",
    "    \n",
    "    def get_age(self):\n",
    "        return self.age\n",
    "    \n",
    "    def get_gender(self):\n",
    "        return self.gender\n",
    "    \n",
    "o1 = Animal(23, \"F\")\n",
    "print(o1.get_gender())\n",
    "o2 = Animal()\n",
    "print(o2.get_gender())"
   ]
  },
  {
   "cell_type": "markdown",
   "metadata": {},
   "source": [
    "For classes that implement the `__call__` method, its instances can be used like functions."
   ]
  },
  {
   "cell_type": "code",
   "execution_count": 43,
   "metadata": {},
   "outputs": [
    {
     "name": "stdout",
     "output_type": "stream",
     "text": [
      "9.0\n",
      "True\n"
     ]
    }
   ],
   "source": [
    "import numpy as np\n",
    "\n",
    "class SquareMe:\n",
    "    def __init__(self, ):\n",
    "        pass\n",
    "        \n",
    "    def __call__(self, x):\n",
    "        return np.power(x,2.0)\n",
    "\n",
    "square_fn = SquareMe()\n",
    "print(square_fn(3.0))\n",
    "\n",
    "# check if callable\n",
    "print(hasattr(zip, '__call__'))"
   ]
  },
  {
   "cell_type": "markdown",
   "metadata": {},
   "source": [
    "## Some important modules"
   ]
  },
  {
   "cell_type": "code",
   "execution_count": 91,
   "metadata": {},
   "outputs": [],
   "source": [
    "import numpy as np  # numpy for numerical computations\n",
    "import sklearn      # sklearn for access to many machine learning methods"
   ]
  },
  {
   "cell_type": "code",
   "execution_count": 90,
   "metadata": {},
   "outputs": [
    {
     "name": "stdout",
     "output_type": "stream",
     "text": [
      "1.2246467991473532e-16\n"
     ]
    }
   ],
   "source": [
    "print(np.sin(np.pi)) # Example"
   ]
  },
  {
   "cell_type": "markdown",
   "metadata": {},
   "source": [
    "## File I/O"
   ]
  },
  {
   "cell_type": "code",
   "execution_count": 92,
   "metadata": {},
   "outputs": [],
   "source": [
    "# Write two integers on two separate lines into file '/tmp/x.txt'\n",
    "with open('/tmp/x.txt', 'w') as fid:\n",
    "    fid.write('%d\\n' % 10)\n",
    "    fid.write('%d\\n' % 20)"
   ]
  },
  {
   "cell_type": "code",
   "execution_count": 93,
   "metadata": {},
   "outputs": [
    {
     "name": "stdout",
     "output_type": "stream",
     "text": [
      "[10, 20]\n"
     ]
    }
   ],
   "source": [
    "# Read each line from that file into content (list)\n",
    "with open('/tmp/x.txt', 'r') as fid:\n",
    "    content = fid.readlines()\n",
    "\n",
    "# convert each element in the list from above into an integer and store in content again\n",
    "content = [int(x) for x in content]    \n",
    "print(content)"
   ]
  },
  {
   "cell_type": "markdown",
   "metadata": {},
   "source": [
    "## Plotting"
   ]
  },
  {
   "cell_type": "code",
   "execution_count": 48,
   "metadata": {},
   "outputs": [
    {
     "data": {
      "image/png": "[encoded data removed]",
      "text/plain": [
       "<Figure size 432x288 with 1 Axes>"
      ]
     },
     "metadata": {
      "needs_background": "light"
     },
     "output_type": "display_data"
    }
   ],
   "source": [
    "# for Jupyter notebook\n",
    "%matplotlib inline \n",
    "import matplotlib.pyplot as plt\n",
    "\n",
    "x = np.linspace(0,6,100)\n",
    "y = np.sin(x)\n",
    "plt.plot(x,y)\n",
    "plt.grid()"
   ]
  },
  {
   "cell_type": "markdown",
   "metadata": {},
   "source": [
    "## Pandas"
   ]
  },
  {
   "cell_type": "code",
   "execution_count": 48,
   "metadata": {},
   "outputs": [],
   "source": [
    "import pandas as pd"
   ]
  },
  {
   "cell_type": "code",
   "execution_count": 49,
   "metadata": {},
   "outputs": [
    {
     "data": {
      "text/html": [
       "<div>\n",
       "<style scoped>\n",
       "    .dataframe tbody tr th:only-of-type {\n",
       "        vertical-align: middle;\n",
       "    }\n",
       "\n",
       "    .dataframe tbody tr th {\n",
       "        vertical-align: top;\n",
       "    }\n",
       "\n",
       "    .dataframe thead th {\n",
       "        text-align: right;\n",
       "    }\n",
       "</style>\n",
       "<table border=\"1\" class=\"dataframe\">\n",
       "  <thead>\n",
       "    <tr style=\"text-align: right;\">\n",
       "      <th></th>\n",
       "      <th>Name</th>\n",
       "      <th>Sex</th>\n",
       "      <th>Age</th>\n",
       "      <th>Weight</th>\n",
       "      <th>Height</th>\n",
       "    </tr>\n",
       "  </thead>\n",
       "  <tbody>\n",
       "    <tr>\n",
       "      <th>0</th>\n",
       "      <td>Alex</td>\n",
       "      <td>\"M\"</td>\n",
       "      <td>41</td>\n",
       "      <td>74</td>\n",
       "      <td>170</td>\n",
       "    </tr>\n",
       "    <tr>\n",
       "      <th>1</th>\n",
       "      <td>Bert</td>\n",
       "      <td>\"M\"</td>\n",
       "      <td>42</td>\n",
       "      <td>68</td>\n",
       "      <td>166</td>\n",
       "    </tr>\n",
       "    <tr>\n",
       "      <th>2</th>\n",
       "      <td>Carl</td>\n",
       "      <td>\"M\"</td>\n",
       "      <td>32</td>\n",
       "      <td>70</td>\n",
       "      <td>155</td>\n",
       "    </tr>\n",
       "    <tr>\n",
       "      <th>3</th>\n",
       "      <td>Dave</td>\n",
       "      <td>\"M\"</td>\n",
       "      <td>39</td>\n",
       "      <td>72</td>\n",
       "      <td>167</td>\n",
       "    </tr>\n",
       "    <tr>\n",
       "      <th>4</th>\n",
       "      <td>Elly</td>\n",
       "      <td>\"F\"</td>\n",
       "      <td>30</td>\n",
       "      <td>66</td>\n",
       "      <td>124</td>\n",
       "    </tr>\n",
       "    <tr>\n",
       "      <th>5</th>\n",
       "      <td>Fran</td>\n",
       "      <td>\"F\"</td>\n",
       "      <td>33</td>\n",
       "      <td>66</td>\n",
       "      <td>115</td>\n",
       "    </tr>\n",
       "    <tr>\n",
       "      <th>6</th>\n",
       "      <td>Gwen</td>\n",
       "      <td>\"F\"</td>\n",
       "      <td>26</td>\n",
       "      <td>64</td>\n",
       "      <td>121</td>\n",
       "    </tr>\n",
       "    <tr>\n",
       "      <th>7</th>\n",
       "      <td>Hank</td>\n",
       "      <td>\"M\"</td>\n",
       "      <td>30</td>\n",
       "      <td>71</td>\n",
       "      <td>158</td>\n",
       "    </tr>\n",
       "    <tr>\n",
       "      <th>8</th>\n",
       "      <td>Ivan</td>\n",
       "      <td>\"M\"</td>\n",
       "      <td>53</td>\n",
       "      <td>72</td>\n",
       "      <td>175</td>\n",
       "    </tr>\n",
       "    <tr>\n",
       "      <th>9</th>\n",
       "      <td>Jake</td>\n",
       "      <td>\"M\"</td>\n",
       "      <td>32</td>\n",
       "      <td>69</td>\n",
       "      <td>143</td>\n",
       "    </tr>\n",
       "  </tbody>\n",
       "</table>\n",
       "</div>"
      ],
      "text/plain": [
       "   Name         Sex  Age  Weight  Height\n",
       "0  Alex         \"M\"   41      74     170\n",
       "1  Bert         \"M\"   42      68     166\n",
       "2  Carl         \"M\"   32      70     155\n",
       "3  Dave         \"M\"   39      72     167\n",
       "4  Elly         \"F\"   30      66     124\n",
       "5  Fran         \"F\"   33      66     115\n",
       "6  Gwen         \"F\"   26      64     121\n",
       "7  Hank         \"M\"   30      71     158\n",
       "8  Ivan         \"M\"   53      72     175\n",
       "9  Jake         \"M\"   32      69     143"
      ]
     },
     "execution_count": 49,
     "metadata": {},
     "output_type": "execute_result"
    }
   ],
   "source": [
    "# e.g., reading CSV files\n",
    "df = pd.read_csv('biostats.csv')\n",
    "df.head(10)"
   ]
  },
  {
   "cell_type": "code",
   "execution_count": 50,
   "metadata": {},
   "outputs": [
    {
     "data": {
      "text/html": [
       "<div>\n",
       "<style scoped>\n",
       "    .dataframe tbody tr th:only-of-type {\n",
       "        vertical-align: middle;\n",
       "    }\n",
       "\n",
       "    .dataframe tbody tr th {\n",
       "        vertical-align: top;\n",
       "    }\n",
       "\n",
       "    .dataframe thead th {\n",
       "        text-align: right;\n",
       "    }\n",
       "</style>\n",
       "<table border=\"1\" class=\"dataframe\">\n",
       "  <thead>\n",
       "    <tr style=\"text-align: right;\">\n",
       "      <th></th>\n",
       "      <th>Age</th>\n",
       "      <th>Weight</th>\n",
       "      <th>Height</th>\n",
       "    </tr>\n",
       "    <tr>\n",
       "      <th>Sex</th>\n",
       "      <th></th>\n",
       "      <th></th>\n",
       "      <th></th>\n",
       "    </tr>\n",
       "  </thead>\n",
       "  <tbody>\n",
       "    <tr>\n",
       "      <th>\"F\"</th>\n",
       "      <td>31.142857</td>\n",
       "      <td>65.571429</td>\n",
       "      <td>123.285714</td>\n",
       "    </tr>\n",
       "    <tr>\n",
       "      <th>\"M\"</th>\n",
       "      <td>36.909091</td>\n",
       "      <td>71.272727</td>\n",
       "      <td>161.636364</td>\n",
       "    </tr>\n",
       "  </tbody>\n",
       "</table>\n",
       "</div>"
      ],
      "text/plain": [
       "                  Age     Weight      Height\n",
       "Sex                                         \n",
       "       \"F\"  31.142857  65.571429  123.285714\n",
       "       \"M\"  36.909091  71.272727  161.636364"
      ]
     },
     "execution_count": 50,
     "metadata": {},
     "output_type": "execute_result"
    }
   ],
   "source": [
    "# Average age, weight, height per sex (M/F)\n",
    "df.groupby(['Sex']).mean()"
   ]
  },
  {
   "cell_type": "code",
   "execution_count": null,
   "metadata": {},
   "outputs": [],
   "source": []
  }
 ],
 "metadata": {
  "kernelspec": {
   "display_name": "Python 3",
   "language": "python",
   "name": "python3"
  },
  "language_info": {
   "codemirror_mode": {
    "name": "ipython",
    "version": 3
   },
   "file_extension": ".py",
   "mimetype": "text/x-python",
   "name": "python",
   "nbconvert_exporter": "python",
   "pygments_lexer": "ipython3",
   "version": "3.8.3"
  }
 },
 "nbformat": 4,
 "nbformat_minor": 4
}
