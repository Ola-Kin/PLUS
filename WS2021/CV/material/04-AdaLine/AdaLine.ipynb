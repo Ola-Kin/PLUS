{
 "cells": [
  {
   "cell_type": "markdown",
   "metadata": {},
   "source": [
    "# Computer Vision\n",
    "\n",
    "Roland Kwitt, 2020\n",
    "\n",
    "## <font color='blue'>Adaptive Linear Neuron (AdaLine)</font>\n",
    "\n",
    "In this part, we briefly look at **AdaLine**, i.e., a simple early neural network model (Widrow & Hoff, 1960).\n",
    "\n",
    "Basically, the adaptive linear neuron is very similar to the Perceptron, with the only difference that the activation function is **linear**."
   ]
  },
  {
   "cell_type": "markdown",
   "metadata": {},
   "source": [
    "---\n",
    "\n",
    "## Contents\n",
    "\n",
    "- [Model](#Model)\n",
    "- [Learning rule](#AdaLine-learning-rule)\n",
    "- [Implementation](#Implementation)"
   ]
  },
  {
   "cell_type": "markdown",
   "metadata": {},
   "source": [
    "---\n",
    "\n",
    "## Model\n",
    "\n",
    "We are given $(\\mathbf{x}_i,y_i)$ for $i=1,\\ldots,n$ with $\\mathbf{x}_i \\in \\mathbb{R}^n$ and $y_i \\in \\{0,1\\}$. Also, we augment $\\mathbf{x}_i$ by 1 at position 0 to obtain $\\mathbf{x}_i = [1,x_{i1},\\ldots,x_{in}]^\\top \\in \\mathbb{R}^{n+1}$. Similar to the perceptron, we compute\n",
    "\n",
    "$$ \\hat{y} = f(\\mathbf{x},\\mathbf{w}) = \\phi(\\langle \\mathbf{w},\\mathbf{x}\\rangle)$$\n",
    "\n",
    "where $\\mathbf{w} = [w_0,w_1,\\ldots,w_n]^\\top$ includes the bias term $w_0$ and\n",
    "\n",
    "$$\n",
    "\\phi(z) = \\mathbf{1}_{z>0.5} = \\begin{cases}\n",
    "1, & \\text{if}~z>1/2 \\\\\n",
    "0, & \\text{else}\n",
    "\\end{cases}\n",
    "$$\n",
    "\n",
    "is a simple threshold function at $1/2$. \n",
    "\n",
    "Another difference to the Perceptron is in the *learning rule*: specifically, we *do not* measure whether we were correct at the output (under 0/1 loss), but rather consider the *mean-squared-error* after the activation function with respect to the target (which is in $\\{0,1\\}$).\n",
    "\n",
    "\n",
    "\n",
    "<img src=\"Adaline.svg\" alt=\"drawing\" width=\"400\"/>\n",
    "\n",
    "At evaluation time, we obviously use the threshold to decide whether a new $\\mathbf{x}^*$ should be assigned 0 or 1."
   ]
  },
  {
   "cell_type": "markdown",
   "metadata": {},
   "source": [
    "---\n",
    "\n",
    "## AdaLine learning rule\n",
    "\n",
    "The original AdaLine learning rule (aka *Widrow-Hoff* learning rule) updates the weights $\\mathbf{w}^{(t)}$ via\n",
    "\n",
    "$$ \\mathbf{w}^{(t+1)} \\leftarrow \\mathbf{w}^{(t)} + \\eta(d-o)\\mathbf{x}$$\n",
    "\n",
    "per sample, where $o$ is the output after the identity function and $d$ is the label of the input sample\n",
    "$\\mathbf{x}$.\n",
    "\n",
    "### Justification\n",
    "\n",
    "Lets omit the iteration identifier $t$ for a second and also omit the indices, $i$, of the training samples.\n",
    "Let $\\mathbf{x} = [1,x_1,x_2,\\ldots,x_n]^\\top$ be an input sample in $\\mathbb{R}^{n+1}$ (with a 1 added to include bias). This allows us to write\n",
    "\n",
    "$$ u = \\mathbf{w}^\\top \\mathbf{x}$$\n",
    "\n",
    "Upon applying the identity activation function, we get\n",
    "\n",
    "$$ o = \\text{id}(u)$$\n",
    "\n",
    "Lets compute the squared error:\n",
    "\n",
    "$$E = (o - d)^2$$\n",
    "\n",
    "and take the partial derivative of $E$ wrt. $\\mathbf{w}$:\n",
    "\n",
    "$$\\frac{\\partial E}{\\partial \\mathbf{w}} = \\frac{\\partial (o-d)^2}{\\partial \\mathbf{w}} = 2(o-d)\\frac{\\partial o}{\\partial \\mathbf{w}} = 2(o-d)\\frac{\\partial u}{\\partial \\mathbf{w}} = 2(o-d)\\frac{\\partial \\mathbf{w}^\\top \\mathbf{x}}{\\partial \\mathbf{w}} = 2(o-d)\\mathbf{x}$$\n",
    "\n",
    "The negative of this gradient (which we need for gradient descent based learning) is \n",
    "\n",
    "$$-\\frac{\\partial E}{\\partial \\mathbf{w}} = 2(d-o)\\mathbf{x}$$\n",
    "\n",
    "As we will see (later), moving along the direction of the negative gradient decreases the error; finally, we obtain the original AdaLine learning rule where the factor 2 is simply *merged* into the learning rate $\\eta$."
   ]
  },
  {
   "cell_type": "markdown",
   "metadata": {},
   "source": [
    "## Implementation"
   ]
  },
  {
   "cell_type": "code",
   "execution_count": 1,
   "metadata": {},
   "outputs": [],
   "source": [
    "import torch\n",
    "from torch.autograd import grad\n",
    "import torch.nn.functional as F\n",
    "\n",
    "%matplotlib inline\n",
    "import matplotlib.pyplot as plt\n",
    "import pandas as pd\n",
    "import numpy as np"
   ]
  },
  {
   "cell_type": "markdown",
   "metadata": {},
   "source": [
    "Let's read-in some actual data into a `pandas` DataFrame."
   ]
  },
  {
   "cell_type": "code",
   "execution_count": 3,
   "metadata": {},
   "outputs": [],
   "source": [
    "df = pd.read_csv(\n",
    "    '../data/iris.data', \n",
    "    index_col=None,\n",
    "    header=None)"
   ]
  },
  {
   "cell_type": "markdown",
   "metadata": {},
   "source": [
    "We want to construct a binary classification problem, where class 0 is `Iris-versicolor` and everything else is class 1."
   ]
  },
  {
   "cell_type": "code",
   "execution_count": 4,
   "metadata": {},
   "outputs": [],
   "source": [
    "df.columns = ['x1', 'x2', 'x3', 'x4', 'y']\n",
    "df = df.iloc[50:150]\n",
    "df['y'] = df['y'].apply(lambda x: 0 if x == 'Iris-versicolor' else 1) # make the problem binary\n",
    "\n",
    "# use x2 and x3 to make up our inputs x = [x2,x3]\n",
    "X = torch.tensor(df[['x2', 'x3']].values, dtype=torch.float)\n",
    "y = torch.tensor(df['y'].values, dtype=torch.int)\n",
    "\n",
    "torch.manual_seed(123)\n",
    "shuffle_idx = torch.randperm(y.size(0), dtype=torch.long)\n",
    "\n",
    "X, y = X[shuffle_idx], y[shuffle_idx]\n",
    "\n",
    "# take 70% of the data for training, the remaining 30% for testing\n",
    "percent70 = int(shuffle_idx.size(0)*0.7)\n",
    "X_train, X_test = X[shuffle_idx[:percent70]], X[shuffle_idx[percent70:]]\n",
    "y_train, y_test = y[shuffle_idx[:percent70]], y[shuffle_idx[percent70:]]\n",
    "\n",
    "# normalize (mean zero, unit variance) - we only use the mean and std. dev of \n",
    "# the training data, since this is the only data we have access to in practice!\n",
    "mu, sigma = X_train.mean(dim=0), X_train.std(dim=0)\n",
    "X_train = (X_train - mu) / sigma\n",
    "X_test = (X_test - mu) / sigma"
   ]
  },
  {
   "cell_type": "markdown",
   "metadata": {},
   "source": [
    "Ok, lets plot the input data points, colored by class (this is our training data)."
   ]
  },
  {
   "cell_type": "code",
   "execution_count": 5,
   "metadata": {},
   "outputs": [
    {
     "data": {
      "image/png": "[encoded data removed]",
      "text/plain": [
       "<Figure size 360x360 with 1 Axes>"
      ]
     },
     "metadata": {
      "needs_background": "light"
     },
     "output_type": "display_data"
    }
   ],
   "source": [
    "plt.figure(figsize=(5,5))\n",
    "plt.plot(X_train[np.where(y_train==0)[0],0],X_train[np.where(y_train==0)[0],1], 'r.', markersize=8);\n",
    "plt.plot(X_train[np.where(y_train==1)[0],0],X_train[np.where(y_train==1)[0],1], 'b.', markersize=8);\n",
    "plt.grid()\n",
    "plt.xlabel('$x_2$');\n",
    "plt.ylabel('$x_3$');"
   ]
  },
  {
   "cell_type": "markdown",
   "metadata": {},
   "source": [
    "We are now ready to define our **Adaline** model. This is effectively a simple linear model (computing an inner product + bias). We will define the model in the way we will later define more complex neural networks, i.e., using a class derived from `nn.Module`.\n"
   ]
  },
  {
   "cell_type": "code",
   "execution_count": 6,
   "metadata": {},
   "outputs": [],
   "source": [
    "def init_weights(m):\n",
    "    if type(m) == torch.nn.Linear:\n",
    "        m.weight.data.zero_()\n",
    "        m.bias.data.zero_()\n",
    "\n",
    "class Adaline(torch.nn.Module):\n",
    "    def __init__(self, num_features):\n",
    "        super(Adaline, self).__init__()\n",
    "\n",
    "        # implements <w,x>+b\n",
    "        self.linear = torch.nn.Linear(num_features, 1) \n",
    "    \n",
    "    def forward(self, x):\n",
    "        u = self.linear(x)   # u = <w,x>+b\n",
    "        o = u                # activation = identity\n",
    "        return o.view(-1)    # vectorize"
   ]
  },
  {
   "cell_type": "markdown",
   "metadata": {},
   "source": [
    "Next, we define how we measure the **quality** of the network output (i.e., the predictions). In Adaline, this is simply a mean-squared error, measuring the squared difference between the network output (after the activation function) and the desired values."
   ]
  },
  {
   "cell_type": "code",
   "execution_count": 7,
   "metadata": {},
   "outputs": [],
   "source": [
    "def train(model, x, y, num_epochs,\n",
    "          learning_rate=0.01, seed=123, minibatch_size=10):\n",
    "    \n",
    "    cost = []\n",
    "    torch.manual_seed(seed)\n",
    "    \n",
    "    # set the optimizer to SGD \n",
    "    optimizer = torch.optim.SGD(\n",
    "        model.parameters(), \n",
    "        lr=learning_rate)\n",
    "    \n",
    "    model.train()\n",
    "    \n",
    "    # Run num_epoch times over the training data\n",
    "    for e in range(num_epochs):\n",
    "        \n",
    "        shuffle_idx = torch.randperm(y.size(0), dtype=torch.long)\n",
    "\n",
    "        # create indices for mini-batches \n",
    "        minibatches = torch.split(\n",
    "            shuffle_idx, \n",
    "            minibatch_size)\n",
    "        \n",
    "        # compute gradient w.r.t. this selection of samples\n",
    "        for minibatch_idx in minibatches:\n",
    "\n",
    "            yhat = model.forward(x[minibatch_idx])     # forward pass\n",
    "            loss = F.mse_loss(yhat, y[minibatch_idx])  # compute loss (i.e., mean-squared error)\n",
    "            optimizer.zero_grad()                      # set gradients to zero\n",
    "            loss.backward()                            # backward pass to compute gradients\n",
    "            optimizer.step()                           # update the AdaLine parameters (w,b)\n",
    "\n",
    "        # compute the loss over ALL training data - with lots of data, you would also \n",
    "        # do this over mini batches!\n",
    "        with torch.no_grad():\n",
    "            yhat = model.forward(x)\n",
    "            curr_loss = F.mse_loss(yhat, y)\n",
    "            print('Epoch: %03d' % (e+1), end=\"\")\n",
    "            print(' | MSE: %.5f' % curr_loss)\n",
    "            cost.append(curr_loss)\n",
    "\n",
    "    return cost"
   ]
  },
  {
   "cell_type": "markdown",
   "metadata": {},
   "source": [
    "Lets instantiate this model and train!"
   ]
  },
  {
   "cell_type": "code",
   "execution_count": 9,
   "metadata": {},
   "outputs": [
    {
     "name": "stdout",
     "output_type": "stream",
     "text": [
      "Epoch: 001 | MSE: 0.60209\n",
      "Epoch: 002 | MSE: 0.46942\n",
      "Epoch: 003 | MSE: 0.37271\n",
      "Epoch: 004 | MSE: 0.30221\n",
      "Epoch: 005 | MSE: 0.25019\n",
      "Epoch: 006 | MSE: 0.21169\n",
      "Epoch: 007 | MSE: 0.18318\n",
      "Epoch: 008 | MSE: 0.16196\n",
      "Epoch: 009 | MSE: 0.14599\n",
      "Epoch: 010 | MSE: 0.13413\n",
      "Epoch: 011 | MSE: 0.12519\n",
      "Epoch: 012 | MSE: 0.11846\n",
      "Epoch: 013 | MSE: 0.11332\n",
      "Epoch: 014 | MSE: 0.10940\n",
      "Epoch: 015 | MSE: 0.10648\n",
      "Epoch: 016 | MSE: 0.10420\n",
      "Epoch: 017 | MSE: 0.10244\n",
      "Epoch: 018 | MSE: 0.10110\n",
      "Epoch: 019 | MSE: 0.10010\n",
      "Epoch: 020 | MSE: 0.09931\n",
      "Epoch: 021 | MSE: 0.09869\n",
      "Epoch: 022 | MSE: 0.09820\n",
      "Epoch: 023 | MSE: 0.09784\n",
      "Epoch: 024 | MSE: 0.09755\n",
      "Epoch: 025 | MSE: 0.09730\n",
      "Epoch: 026 | MSE: 0.09711\n",
      "Epoch: 027 | MSE: 0.09696\n",
      "Epoch: 028 | MSE: 0.09684\n",
      "Epoch: 029 | MSE: 0.09675\n",
      "Epoch: 030 | MSE: 0.09667\n",
      "Epoch: 031 | MSE: 0.09660\n",
      "Epoch: 032 | MSE: 0.09655\n",
      "Epoch: 033 | MSE: 0.09650\n",
      "Epoch: 034 | MSE: 0.09647\n",
      "Epoch: 035 | MSE: 0.09643\n",
      "Epoch: 036 | MSE: 0.09641\n",
      "Epoch: 037 | MSE: 0.09639\n",
      "Epoch: 038 | MSE: 0.09637\n",
      "Epoch: 039 | MSE: 0.09635\n",
      "Epoch: 040 | MSE: 0.09634\n"
     ]
    },
    {
     "data": {
      "image/png": "[encoded data removed]",
      "text/plain": [
       "<Figure size 432x288 with 1 Axes>"
      ]
     },
     "metadata": {
      "needs_background": "light"
     },
     "output_type": "display_data"
    }
   ],
   "source": [
    "model = Adaline(num_features=2)\n",
    "cost = train(model, \n",
    "             X_train, y_train.float(),\n",
    "             num_epochs=40,\n",
    "             learning_rate=0.01,\n",
    "             seed=123,\n",
    "             minibatch_size=10)\n",
    "\n",
    "plt.plot(cost, linewidth=3);\n",
    "plt.xlabel('Iterations');\n",
    "plt.ylabel('Loss');\n",
    "plt.grid()"
   ]
  },
  {
   "cell_type": "markdown",
   "metadata": {},
   "source": [
    "We are now ready to evaluate the performance of the Adaline network on **training** data:"
   ]
  },
  {
   "cell_type": "code",
   "execution_count": 10,
   "metadata": {},
   "outputs": [
    {
     "name": "stdout",
     "output_type": "stream",
     "text": [
      "Train accuracy: 0.914\n"
     ]
    }
   ],
   "source": [
    "# set model to evaluation mode\n",
    "model.eval()\n",
    "\n",
    "# run a forward pass through model, detach the result \n",
    "# from the comp. graph and convert it to a numpy array\n",
    "yhat_train = model.forward(X_train).detach().numpy()\n",
    "\n",
    "# create an array of all-zeros\n",
    "ylab_train = np.zeros_like(yhat_train, dtype=np.int32)\n",
    "\n",
    "# apply threshold (at 0.5): predictions > 0.5 get label 1, all others are 0\n",
    "ylab_train[np.where(yhat_train>0.5)[0]]=1\n",
    "\n",
    "# compute accuracy\n",
    "print('Train accuracy: {:.3f}'.format((ylab_train == y_train.numpy()).sum()/len(ylab_train)))"
   ]
  },
  {
   "cell_type": "markdown",
   "metadata": {},
   "source": [
    "... and now on unseen **testing** data:"
   ]
  },
  {
   "cell_type": "code",
   "execution_count": 11,
   "metadata": {},
   "outputs": [
    {
     "name": "stdout",
     "output_type": "stream",
     "text": [
      "Test accuracy: 0.967\n"
     ]
    }
   ],
   "source": [
    "model.eval()\n",
    "yhat_test = model.forward(X_test).detach().numpy()\n",
    "\n",
    "ylab_test = np.zeros_like(yhat_test, dtype=np.int32)\n",
    "ylab_test[np.where(yhat_test>0.5)[0]]=1\n",
    "\n",
    "print('Test accuracy: {:.3f}'.format((ylab_test == y_test.numpy()).sum()/len(ylab_test)))"
   ]
  },
  {
   "cell_type": "markdown",
   "metadata": {},
   "source": [
    "## More convenience via `Dataset` and `DataLoader`"
   ]
  },
  {
   "cell_type": "code",
   "execution_count": 12,
   "metadata": {},
   "outputs": [],
   "source": [
    "class CustomDataSet(torch.utils.data.Dataset):\n",
    "    def __init__(self, X, y):\n",
    "        super().__init__()\n",
    "        \n",
    "        self.X = X.astype('float32')\n",
    "        self.y = y.astype('float32')\n",
    "        \n",
    "        assert(self.X.shape[0] == self.y.shape[0])\n",
    "        \n",
    "    def __getitem__(self, idx):\n",
    "        return self.X[idx,:], self.y[idx]\n",
    "\n",
    "    def __len__(self):\n",
    "        return self.X.shape[0]\n",
    "    \n",
    "\n",
    "def get_data(file_name, p=0.7):\n",
    "    df = pd.read_csv(file_name, index_col=None, header=None)\n",
    "    df = df.iloc[50:150]\n",
    "    df.columns = ['x1', \n",
    "                  'x2', \n",
    "                  'x3', \n",
    "                  'x4', \n",
    "                  'y']\n",
    "    \n",
    "    df['y'] = df['y'].apply(lambda x: 0 if x == 'Iris-versicolor' else 1)\n",
    "    \n",
    "    shuffle_idx =  np.random.permutation(len(df))\n",
    "    X = df[['x2', 'x3']].values[shuffle_idx]\n",
    "    y = df['y'].values[shuffle_idx]\n",
    "    \n",
    "    N = int(len(shuffle_idx)*p)\n",
    "    X_trn, X_tst = X[shuffle_idx[:N]], X[shuffle_idx[N:]]\n",
    "    y_trn, y_tst = y[shuffle_idx[:N]], y[shuffle_idx[N:]]\n",
    "    \n",
    "    mu, sigma = X_trn.mean(axis=0), X_trn.std(axis=0)\n",
    "    X_trn = (X_trn - mu) / sigma\n",
    "    X_tst = (X_tst - mu) / sigma\n",
    "    \n",
    "    return X_trn, y_trn, X_tst, y_tst"
   ]
  },
  {
   "cell_type": "code",
   "execution_count": 16,
   "metadata": {},
   "outputs": [],
   "source": [
    "from torch.utils.data import DataLoader\n",
    "\n",
    "X_trn, y_trn, X_tst, y_tst = get_data('../data/iris.data')\n",
    "\n",
    "ds_trn = CustomDataSet(X_trn, y_trn)\n",
    "ds_tst = CustomDataSet(X_tst, y_tst)\n",
    "\n",
    "dl_trn = DataLoader(ds_trn, batch_size=10, shuffle=True)\n",
    "dl_tst = DataLoader(ds_tst, batch_size=10, shuffle=False)"
   ]
  },
  {
   "cell_type": "code",
   "execution_count": 17,
   "metadata": {},
   "outputs": [
    {
     "data": {
      "image/png": "[encoded data removed]",
      "text/plain": [
       "<Figure size 720x360 with 1 Axes>"
      ]
     },
     "metadata": {
      "needs_background": "light"
     },
     "output_type": "display_data"
    }
   ],
   "source": [
    "model = Adaline(num_features=2)\n",
    "optim = torch.optim.SGD(model.parameters(), lr=0.01)\n",
    "\n",
    "it_loss = []\n",
    "\n",
    "for n_epoch in range(100):\n",
    "    for x, target in dl_trn:\n",
    "        yhat = model(x)\n",
    "        loss = F.mse_loss(yhat, target) \n",
    "        optim.zero_grad()\n",
    "        loss.backward()\n",
    "        optim.step()\n",
    "        it_loss.append(loss.item())   \n",
    "\n",
    "plt.figure(figsize=(10,5))\n",
    "plt.plot(it_loss)\n",
    "plt.xlabel('Batch counter');\n",
    "plt.ylabel('MSE loss / Batch');\n",
    "plt.grid()"
   ]
  },
  {
   "cell_type": "code",
   "execution_count": 18,
   "metadata": {},
   "outputs": [
    {
     "name": "stdout",
     "output_type": "stream",
     "text": [
      "Test accuracy: 0.93\n"
     ]
    }
   ],
   "source": [
    "model.eval()\n",
    "correct = 0\n",
    "for x, target in dl_tst:\n",
    "    y = model(x).detach().numpy()\n",
    "    yhat = np.zeros_like(y)\n",
    "    yhat[np.where(y>0.5)[0]]=1\n",
    "    correct += (yhat == target.numpy()).sum()\n",
    "\n",
    "print('Test accuracy: {:.2f}'.format(correct/len(ds_tst)))"
   ]
  }
 ],
 "metadata": {
  "kernelspec": {
   "display_name": "Python 3",
   "language": "python",
   "name": "python3"
  },
  "language_info": {
   "codemirror_mode": {
    "name": "ipython",
    "version": 3
   },
   "file_extension": ".py",
   "mimetype": "text/x-python",
   "name": "python",
   "nbconvert_exporter": "python",
   "pygments_lexer": "ipython3",
   "version": "3.7.6"
  }
 },
 "nbformat": 4,
 "nbformat_minor": 2
}
