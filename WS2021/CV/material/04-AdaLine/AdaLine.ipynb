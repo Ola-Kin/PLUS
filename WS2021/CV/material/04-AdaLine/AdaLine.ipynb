{
 "cells": [
  {
   "cell_type": "markdown",
   "metadata": {},
   "source": [
    "# Computer Vision\n",
    "\n",
    "Roland Kwitt, 2020\n",
    "\n",
    "## <font color='blue'>Adaptive Linear Neuron (AdaLine)</font>\n",
    "\n",
    "In this part, we briefly look at **AdaLine**, i.e., a simple early neural network model (Widrow & Hoff, 1960).\n",
    "\n",
    "Basically, the adaptive linear neuron is very similar to the Perceptron, with the only difference that the activation function is **linear**."
   ]
  },
  {
   "cell_type": "markdown",
   "metadata": {},
   "source": [
    "---\n",
    "\n",
    "## Contents\n",
    "\n",
    "- [Model](#Model)\n",
    "- [Learning rule](#AdaLine-learning-rule)\n",
    "- [Implementation](#Implementation)"
   ]
  },
  {
   "cell_type": "markdown",
   "metadata": {},
   "source": [
    "---\n",
    "\n",
    "## Model\n",
    "\n",
    "We are given $(\\mathbf{x}_i,y_i)$ for $i=1,\\ldots,n$ with $\\mathbf{x}_i \\in \\mathbb{R}^n$ and $y_i \\in \\{0,1\\}$. Also, we augment $\\mathbf{x}_i$ by 1 at position 0 to obtain $\\mathbf{x}_i = [1,x_{i1},\\ldots,x_{in}]^\\top \\in \\mathbb{R}^{n+1}$. Similar to the perceptron, we compute\n",
    "\n",
    "$$ \\hat{y} = f(\\mathbf{x},\\mathbf{w}) = \\phi(\\langle \\mathbf{w},\\mathbf{x}\\rangle)$$\n",
    "\n",
    "where $\\mathbf{w} = [w_0,w_1,\\ldots,w_n]^\\top$ includes the bias term $w_0$ and\n",
    "\n",
    "$$\n",
    "\\phi(z) = \\mathbf{1}_{z>0.5} = \\begin{cases}\n",
    "1, & \\text{if}~z>1/2 \\\\\n",
    "0, & \\text{else}\n",
    "\\end{cases}\n",
    "$$\n",
    "\n",
    "is a simple threshold function at $1/2$. \n",
    "\n",
    "Another difference to the Perceptron is in the **learning rule**: in particular, we *do not* measure whether we were correct at the output (under 0/1 loss), but rather consider the *mean-squared-error* after the activation function ($\\text{id}$) with respect to the target (which is in $\\{0,1\\}$).\n",
    "\n",
    "\n",
    "\n",
    "<img src=\"Adaline.svg\" alt=\"drawing\" width=\"400\"/>\n",
    "\n",
    "At evaluation time, we obviously use the threshold to decide whether a new $\\mathbf{x}^*$ should be assigned 0 or 1."
   ]
  },
  {
   "cell_type": "markdown",
   "metadata": {},
   "source": [
    "---\n",
    "\n",
    "## AdaLine learning rule\n",
    "\n",
    "The original AdaLine learning rule (aka *Widrow-Hoff* learning rule) updates the weights $\\mathbf{w}^{(t)}$ via\n",
    "\n",
    "$$ \\mathbf{w}^{(t+1)} \\leftarrow \\mathbf{w}^{(t)} + \\eta(d-o)\\mathbf{x}$$\n",
    "\n",
    "per sample, where $o$ is the output after the identity function and $d$ is the label of the input sample\n",
    "$\\mathbf{x}$.\n",
    "\n",
    "### Justification\n",
    "\n",
    "Lets omit the iteration identifier $t$ for a second and also omit the indices, $i$, of the training samples.\n",
    "Let $\\mathbf{x} = [1,x_1,x_2,\\ldots,x_n]^\\top$ be an input sample in $\\mathbb{R}^{n+1}$ (with a 1 added to include bias). This allows us to write\n",
    "\n",
    "$$ u = \\mathbf{w}^\\top \\mathbf{x}$$\n",
    "\n",
    "Upon applying the identity activation function, we get\n",
    "\n",
    "$$ o = \\text{id}(u)$$\n",
    "\n",
    "Lets compute the squared error:\n",
    "\n",
    "$$E = (o - d)^2$$\n",
    "\n",
    "and take the partial derivative of $E$ wrt. $\\mathbf{w}$:\n",
    "\n",
    "$$\\frac{\\partial E}{\\partial \\mathbf{w}} = \\frac{\\partial (o-d)^2}{\\partial \\mathbf{w}} = 2(o-d)\\frac{\\partial o}{\\partial \\mathbf{w}} = 2(o-d)\\frac{\\partial u}{\\partial \\mathbf{w}} = 2(o-d)\\frac{\\partial \\mathbf{w}^\\top \\mathbf{x}}{\\partial \\mathbf{w}} = 2(o-d)\\mathbf{x}$$\n",
    "\n",
    "The negative of this gradient (which we need for gradient descent based learning) is \n",
    "\n",
    "$$-\\frac{\\partial E}{\\partial \\mathbf{w}} = 2(d-o)\\mathbf{x}$$\n",
    "\n",
    "As we know, moving along the direction of the negative gradient decreases the value of the error function.\n",
    "\n",
    "Thus, we have obtained the original AdaLine learning rule where the factor 2 is simply *merged* into the learning rate $\\eta$."
   ]
  },
  {
   "cell_type": "markdown",
   "metadata": {},
   "source": [
    "## Implementation"
   ]
  },
  {
   "cell_type": "code",
   "execution_count": 15,
   "metadata": {},
   "outputs": [],
   "source": [
    "import torch\n",
    "from torch.autograd import grad\n",
    "import torch.nn.functional as F\n",
    "\n",
    "%matplotlib inline\n",
    "import matplotlib.pyplot as plt\n",
    "import pandas as pd\n",
    "import numpy as np"
   ]
  },
  {
   "cell_type": "markdown",
   "metadata": {},
   "source": [
    "Let's read-in some actual data into a `pandas` DataFrame."
   ]
  },
  {
   "cell_type": "code",
   "execution_count": 16,
   "metadata": {},
   "outputs": [
    {
     "data": {
      "text/html": [
       "<div>\n",
       "<style scoped>\n",
       "    .dataframe tbody tr th:only-of-type {\n",
       "        vertical-align: middle;\n",
       "    }\n",
       "\n",
       "    .dataframe tbody tr th {\n",
       "        vertical-align: top;\n",
       "    }\n",
       "\n",
       "    .dataframe thead th {\n",
       "        text-align: right;\n",
       "    }\n",
       "</style>\n",
       "<table border=\"1\" class=\"dataframe\">\n",
       "  <thead>\n",
       "    <tr style=\"text-align: right;\">\n",
       "      <th></th>\n",
       "      <th>0</th>\n",
       "      <th>1</th>\n",
       "      <th>2</th>\n",
       "      <th>3</th>\n",
       "      <th>4</th>\n",
       "    </tr>\n",
       "  </thead>\n",
       "  <tbody>\n",
       "    <tr>\n",
       "      <th>0</th>\n",
       "      <td>5.1</td>\n",
       "      <td>3.5</td>\n",
       "      <td>1.4</td>\n",
       "      <td>0.2</td>\n",
       "      <td>Iris-setosa</td>\n",
       "    </tr>\n",
       "    <tr>\n",
       "      <th>1</th>\n",
       "      <td>4.9</td>\n",
       "      <td>3.0</td>\n",
       "      <td>1.4</td>\n",
       "      <td>0.2</td>\n",
       "      <td>Iris-setosa</td>\n",
       "    </tr>\n",
       "    <tr>\n",
       "      <th>2</th>\n",
       "      <td>4.7</td>\n",
       "      <td>3.2</td>\n",
       "      <td>1.3</td>\n",
       "      <td>0.2</td>\n",
       "      <td>Iris-setosa</td>\n",
       "    </tr>\n",
       "    <tr>\n",
       "      <th>3</th>\n",
       "      <td>4.6</td>\n",
       "      <td>3.1</td>\n",
       "      <td>1.5</td>\n",
       "      <td>0.2</td>\n",
       "      <td>Iris-setosa</td>\n",
       "    </tr>\n",
       "    <tr>\n",
       "      <th>4</th>\n",
       "      <td>5.0</td>\n",
       "      <td>3.6</td>\n",
       "      <td>1.4</td>\n",
       "      <td>0.2</td>\n",
       "      <td>Iris-setosa</td>\n",
       "    </tr>\n",
       "    <tr>\n",
       "      <th>5</th>\n",
       "      <td>5.4</td>\n",
       "      <td>3.9</td>\n",
       "      <td>1.7</td>\n",
       "      <td>0.4</td>\n",
       "      <td>Iris-setosa</td>\n",
       "    </tr>\n",
       "    <tr>\n",
       "      <th>6</th>\n",
       "      <td>4.6</td>\n",
       "      <td>3.4</td>\n",
       "      <td>1.4</td>\n",
       "      <td>0.3</td>\n",
       "      <td>Iris-setosa</td>\n",
       "    </tr>\n",
       "    <tr>\n",
       "      <th>7</th>\n",
       "      <td>5.0</td>\n",
       "      <td>3.4</td>\n",
       "      <td>1.5</td>\n",
       "      <td>0.2</td>\n",
       "      <td>Iris-setosa</td>\n",
       "    </tr>\n",
       "    <tr>\n",
       "      <th>8</th>\n",
       "      <td>4.4</td>\n",
       "      <td>2.9</td>\n",
       "      <td>1.4</td>\n",
       "      <td>0.2</td>\n",
       "      <td>Iris-setosa</td>\n",
       "    </tr>\n",
       "    <tr>\n",
       "      <th>9</th>\n",
       "      <td>4.9</td>\n",
       "      <td>3.1</td>\n",
       "      <td>1.5</td>\n",
       "      <td>0.1</td>\n",
       "      <td>Iris-setosa</td>\n",
       "    </tr>\n",
       "  </tbody>\n",
       "</table>\n",
       "</div>"
      ],
      "text/plain": [
       "     0    1    2    3            4\n",
       "0  5.1  3.5  1.4  0.2  Iris-setosa\n",
       "1  4.9  3.0  1.4  0.2  Iris-setosa\n",
       "2  4.7  3.2  1.3  0.2  Iris-setosa\n",
       "3  4.6  3.1  1.5  0.2  Iris-setosa\n",
       "4  5.0  3.6  1.4  0.2  Iris-setosa\n",
       "5  5.4  3.9  1.7  0.4  Iris-setosa\n",
       "6  4.6  3.4  1.4  0.3  Iris-setosa\n",
       "7  5.0  3.4  1.5  0.2  Iris-setosa\n",
       "8  4.4  2.9  1.4  0.2  Iris-setosa\n",
       "9  4.9  3.1  1.5  0.1  Iris-setosa"
      ]
     },
     "execution_count": 16,
     "metadata": {},
     "output_type": "execute_result"
    }
   ],
   "source": [
    "df = pd.read_csv(\n",
    "    '../data/iris.data', \n",
    "    index_col=None,\n",
    "    header=None)\n",
    "\n",
    "df.head(10)"
   ]
  },
  {
   "cell_type": "markdown",
   "metadata": {},
   "source": [
    "We want to construct a binary classification problem, where class 0 is `Iris-versicolor` and everything else is class 1."
   ]
  },
  {
   "cell_type": "code",
   "execution_count": 17,
   "metadata": {},
   "outputs": [],
   "source": [
    "# rename columns in pandas data frame\n",
    "df.columns = ['x1', 'x2', 'x3', 'x4', 'y']\n",
    "# restrict the data frame to 100 entries (rows with indices 50+ up to 149)\n",
    "df = df.iloc[50:150]\n",
    "# make the problem binary, i.e., Iris-versicolor vs. everything else\n",
    "df['y'] = df['y'].apply(lambda x: 0 if x == 'Iris-versicolor' else 1) \n",
    "\n",
    "# use columns x2 and x3 to make up our inputs x = [x2,x3]\n",
    "X = torch.tensor(df[['x2', 'x3']].values, dtype=torch.float)\n",
    "y = torch.tensor(df['y'].values, dtype=torch.int)\n",
    "\n",
    "# create random permutation of indices to shuffle the data\n",
    "torch.manual_seed(123)\n",
    "shuffle_idx = torch.randperm(y.size(0), dtype=torch.long)\n",
    "X, y = X[shuffle_idx], y[shuffle_idx]\n",
    "\n",
    "# take 70% of the data for training, the remaining 30% for testing\n",
    "percent70 = int(shuffle_idx.size(0)*0.7)\n",
    "X_train, X_test = X[shuffle_idx[:percent70]], X[shuffle_idx[percent70:]]\n",
    "y_train, y_test = y[shuffle_idx[:percent70]], y[shuffle_idx[percent70:]]\n",
    "\n",
    "# normalize (mean zero, unit variance) - we only use the mean and std. dev of \n",
    "# the training data, since this is the only data we have access to in practice!\n",
    "mu, sigma = X_train.mean(dim=0), X_train.std(dim=0)\n",
    "X_train = (X_train - mu) / sigma\n",
    "X_test = (X_test - mu) / sigma"
   ]
  },
  {
   "cell_type": "markdown",
   "metadata": {},
   "source": [
    "Ok, lets plot the **input data points**, colored by class (this is our training data)."
   ]
  },
  {
   "cell_type": "code",
   "execution_count": 18,
   "metadata": {},
   "outputs": [
    {
     "data": {
      "image/png": "[encoded data removed]",
      "text/plain": [
       "<Figure size 360x360 with 1 Axes>"
      ]
     },
     "metadata": {
      "needs_background": "light"
     },
     "output_type": "display_data"
    }
   ],
   "source": [
    "plt.figure(figsize=(5,5))\n",
    "plt.plot(X_train[np.where(y_train==0)[0],0],X_train[np.where(y_train==0)[0],1], 'r.', markersize=8);\n",
    "plt.plot(X_train[np.where(y_train==1)[0],0],X_train[np.where(y_train==1)[0],1], 'b.', markersize=8);\n",
    "plt.grid()\n",
    "plt.xlabel('$x_2$');\n",
    "plt.ylabel('$x_3$');"
   ]
  },
  {
   "cell_type": "markdown",
   "metadata": {},
   "source": [
    "We are now ready to define our **Adaline** model. This is effectively a simple linear model (computing an inner product + bias). We will define the model in the way we will later define more complex neural networks, i.e., using a class derived from `nn.Module`.\n"
   ]
  },
  {
   "cell_type": "code",
   "execution_count": 19,
   "metadata": {},
   "outputs": [],
   "source": [
    "def init_weights(m):\n",
    "    if type(m) == torch.nn.Linear:\n",
    "        m.weight.data.zero_()\n",
    "        m.bias.data.zero_()\n",
    "\n",
    "class Adaline(torch.nn.Module):\n",
    "    def __init__(self, num_features):\n",
    "        super(Adaline, self).__init__()\n",
    "\n",
    "        # implements <w,x> + b, i.e., an affine map from R^n -> R\n",
    "        self.linear = torch.nn.Linear(num_features, 1) \n",
    "    \n",
    "    def forward(self, x):\n",
    "        u = self.linear(x)   # u = <w,x> + b\n",
    "        o = u                # activation = identity\n",
    "        return o.view(-1)    # vectorize"
   ]
  },
  {
   "cell_type": "markdown",
   "metadata": {},
   "source": [
    "Next, we define how we measure the **quality** of the network output (i.e., the predictions). \n",
    "\n",
    "In Adaline, this is simply the *mean-squared error (MSE)*, measuring the squared difference between the network output (after the activation function) and the desired values."
   ]
  },
  {
   "cell_type": "code",
   "execution_count": 38,
   "metadata": {},
   "outputs": [],
   "source": [
    "def train(model, x, y, num_epochs,\n",
    "          learning_rate=0.01, seed=123, minibatch_size=20):\n",
    "    \n",
    "    cost = []\n",
    "    torch.manual_seed(seed)\n",
    "    \n",
    "    # set the optimizer to SGD \n",
    "    optimizer = torch.optim.SGD(\n",
    "        model.parameters(), # model parameters to optimize over, in our model w and b\n",
    "        lr=learning_rate)\n",
    "    \n",
    "    # set training mode to True\n",
    "    model.train()\n",
    "    \n",
    "    # Run num_epoch times over the training data\n",
    "    for e in range(num_epochs):\n",
    "        \n",
    "        shuffle_idx = torch.randperm(y.size(0), dtype=torch.long)\n",
    "\n",
    "        # create indices for mini-batches \n",
    "        minibatches = torch.split(\n",
    "            shuffle_idx, \n",
    "            minibatch_size)\n",
    "        \n",
    "        # compute gradient w.r.t. this selection of samples\n",
    "        for minibatch_idx in minibatches:\n",
    "\n",
    "            yhat = model.forward(x[minibatch_idx])     # forward pass\n",
    "            loss = F.mse_loss(yhat, y[minibatch_idx])  # compute loss (i.e., mean-squared error)\n",
    "            optimizer.zero_grad()                      # set gradients to zero\n",
    "            loss.backward()                            # backward pass to compute gradients\n",
    "            optimizer.step()                           # update the AdaLine parameters (w,b)\n",
    "\n",
    "        # compute the loss over ALL training data! Note: with lots of data points, you would also \n",
    "        # do this over mini batches!\n",
    "        with torch.no_grad():\n",
    "            yhat = model.forward(x)\n",
    "            curr_loss = F.mse_loss(yhat, y)\n",
    "            print('Epoch: %03d' % (e+1), end=\"\")\n",
    "            print(' | MSE: %.5f' % curr_loss)\n",
    "            cost.append(curr_loss)\n",
    "\n",
    "    return cost"
   ]
  },
  {
   "cell_type": "markdown",
   "metadata": {},
   "source": [
    "Lets instantiate this model and train!"
   ]
  },
  {
   "cell_type": "code",
   "execution_count": 39,
   "metadata": {},
   "outputs": [
    {
     "name": "stdout",
     "output_type": "stream",
     "text": [
      "Epoch: 001 | MSE: 1.20365\n",
      "Epoch: 002 | MSE: 0.91051\n",
      "Epoch: 003 | MSE: 0.69840\n",
      "Epoch: 004 | MSE: 0.54421\n",
      "Epoch: 005 | MSE: 0.43173\n",
      "Epoch: 006 | MSE: 0.34913\n",
      "Epoch: 007 | MSE: 0.28793\n",
      "Epoch: 008 | MSE: 0.24267\n",
      "Epoch: 009 | MSE: 0.20853\n",
      "Epoch: 010 | MSE: 0.18309\n",
      "Epoch: 011 | MSE: 0.16373\n",
      "Epoch: 012 | MSE: 0.14925\n",
      "Epoch: 013 | MSE: 0.13790\n",
      "Epoch: 014 | MSE: 0.12916\n",
      "Epoch: 015 | MSE: 0.12245\n",
      "Epoch: 016 | MSE: 0.11719\n",
      "Epoch: 017 | MSE: 0.11310\n",
      "Epoch: 018 | MSE: 0.10990\n",
      "Epoch: 019 | MSE: 0.10738\n",
      "Epoch: 020 | MSE: 0.10535\n",
      "Epoch: 021 | MSE: 0.10373\n",
      "Epoch: 022 | MSE: 0.10241\n",
      "Epoch: 023 | MSE: 0.10138\n",
      "Epoch: 024 | MSE: 0.10052\n",
      "Epoch: 025 | MSE: 0.09982\n",
      "Epoch: 026 | MSE: 0.09923\n",
      "Epoch: 027 | MSE: 0.09875\n",
      "Epoch: 028 | MSE: 0.09835\n",
      "Epoch: 029 | MSE: 0.09803\n",
      "Epoch: 030 | MSE: 0.09777\n",
      "Epoch: 031 | MSE: 0.09754\n",
      "Epoch: 032 | MSE: 0.09736\n",
      "Epoch: 033 | MSE: 0.09720\n",
      "Epoch: 034 | MSE: 0.09706\n",
      "Epoch: 035 | MSE: 0.09694\n",
      "Epoch: 036 | MSE: 0.09685\n",
      "Epoch: 037 | MSE: 0.09676\n",
      "Epoch: 038 | MSE: 0.09669\n",
      "Epoch: 039 | MSE: 0.09663\n",
      "Epoch: 040 | MSE: 0.09658\n"
     ]
    },
    {
     "data": {
      "image/png": "[encoded data removed]",
      "text/plain": [
       "<Figure size 432x288 with 1 Axes>"
      ]
     },
     "metadata": {
      "needs_background": "light"
     },
     "output_type": "display_data"
    }
   ],
   "source": [
    "model = Adaline(num_features=2)\n",
    "cost = train(model, \n",
    "             X_train, y_train.float(),\n",
    "             num_epochs=40,\n",
    "             learning_rate=0.01,\n",
    "             seed=123,\n",
    "             minibatch_size=10)\n",
    "\n",
    "plt.plot(cost, linewidth=3);\n",
    "plt.xlabel('Iterations');\n",
    "plt.ylabel('Loss (MSE))');\n",
    "plt.grid()"
   ]
  },
  {
   "cell_type": "markdown",
   "metadata": {},
   "source": [
    "We are now ready to evaluate the performance of the Adaline network on **training** data:"
   ]
  },
  {
   "cell_type": "code",
   "execution_count": 40,
   "metadata": {},
   "outputs": [
    {
     "name": "stdout",
     "output_type": "stream",
     "text": [
      "Train accuracy: 0.900\n"
     ]
    }
   ],
   "source": [
    "# set model to evaluation mode\n",
    "model.eval()\n",
    "\n",
    "# run a forward pass through model, detach the result \n",
    "# from the comp. graph and convert it to a numpy array\n",
    "yhat_train = model.forward(X_train).detach().numpy()\n",
    "\n",
    "# create an array of all-zeros\n",
    "ylab_train = np.zeros_like(yhat_train, dtype=np.int32)\n",
    "\n",
    "# apply threshold (at 0.5): predictions > 0.5 get label 1, all others are 0\n",
    "ylab_train[np.where(yhat_train>0.5)[0]]=1\n",
    "\n",
    "# compute accuracy\n",
    "print('Train accuracy: {:.3f}'.format((ylab_train == y_train.numpy()).sum()/len(ylab_train)))"
   ]
  },
  {
   "cell_type": "markdown",
   "metadata": {},
   "source": [
    "... and now on unseen **testing** data:"
   ]
  },
  {
   "cell_type": "code",
   "execution_count": 41,
   "metadata": {},
   "outputs": [
    {
     "name": "stdout",
     "output_type": "stream",
     "text": [
      "Test accuracy: 0.933\n"
     ]
    }
   ],
   "source": [
    "model.eval()\n",
    "yhat_test = model.forward(X_test).detach().numpy()\n",
    "\n",
    "ylab_test = np.zeros_like(yhat_test, dtype=np.int32)\n",
    "ylab_test[np.where(yhat_test>0.5)[0]]=1\n",
    "\n",
    "print('Test accuracy: {:.3f}'.format((ylab_test == y_test.numpy()).sum()/len(ylab_test)))"
   ]
  },
  {
   "cell_type": "markdown",
   "metadata": {},
   "source": [
    "## More convenience via `Dataset` and `DataLoader`"
   ]
  },
  {
   "cell_type": "code",
   "execution_count": 25,
   "metadata": {},
   "outputs": [],
   "source": [
    "class CustomDataSet(torch.utils.data.Dataset):\n",
    "    def __init__(self, X, y):\n",
    "        super().__init__()\n",
    "        \n",
    "        self.X = X.astype('float32')\n",
    "        self.y = y.astype('float32')\n",
    "        \n",
    "        assert(self.X.shape[0] == self.y.shape[0])\n",
    "        \n",
    "    def __getitem__(self, idx):\n",
    "        return self.X[idx,:], self.y[idx]\n",
    "\n",
    "    def __len__(self):\n",
    "        return self.X.shape[0]\n",
    "    \n",
    "\n",
    "def get_data(file_name, p=0.7):\n",
    "    df = pd.read_csv(file_name, index_col=None, header=None)\n",
    "    df = df.iloc[50:150]\n",
    "    df.columns = ['x1', \n",
    "                  'x2', \n",
    "                  'x3', \n",
    "                  'x4', \n",
    "                  'y']\n",
    "    \n",
    "    df['y'] = df['y'].apply(lambda x: 0 if x == 'Iris-versicolor' else 1)\n",
    "    \n",
    "    shuffle_idx =  np.random.permutation(len(df))\n",
    "    X = df[['x2', 'x3']].values[shuffle_idx]\n",
    "    y = df['y'].values[shuffle_idx]\n",
    "    \n",
    "    N = int(len(shuffle_idx)*p)\n",
    "    X_trn, X_tst = X[shuffle_idx[:N]], X[shuffle_idx[N:]]\n",
    "    y_trn, y_tst = y[shuffle_idx[:N]], y[shuffle_idx[N:]]\n",
    "    \n",
    "    mu, sigma = X_trn.mean(axis=0), X_trn.std(axis=0)\n",
    "    X_trn = (X_trn - mu) / sigma\n",
    "    X_tst = (X_tst - mu) / sigma\n",
    "    \n",
    "    return X_trn, y_trn, X_tst, y_tst"
   ]
  },
  {
   "cell_type": "code",
   "execution_count": 35,
   "metadata": {},
   "outputs": [],
   "source": [
    "from torch.utils.data import DataLoader\n",
    "\n",
    "X_trn, y_trn, X_tst, y_tst = get_data('../data/iris.data')\n",
    "\n",
    "ds_trn = CustomDataSet(X_trn, y_trn)\n",
    "ds_tst = CustomDataSet(X_tst, y_tst)\n",
    "\n",
    "dl_trn = DataLoader(ds_trn, batch_size=20, shuffle=True)\n",
    "dl_tst = DataLoader(ds_tst, batch_size=20, shuffle=False)"
   ]
  },
  {
   "cell_type": "code",
   "execution_count": 36,
   "metadata": {},
   "outputs": [
    {
     "data": {
      "image/png": "[encoded data removed]",
      "text/plain": [
       "<Figure size 720x360 with 1 Axes>"
      ]
     },
     "metadata": {
      "needs_background": "light"
     },
     "output_type": "display_data"
    }
   ],
   "source": [
    "model = Adaline(num_features=2)\n",
    "optim = torch.optim.SGD(model.parameters(), lr=0.01)\n",
    "\n",
    "it_loss = []\n",
    "\n",
    "for n_epoch in range(200):\n",
    "    for x, target in dl_trn:\n",
    "        optim.zero_grad()\n",
    "        yhat = model(x)\n",
    "        loss = F.mse_loss(yhat, target) \n",
    "        loss.backward()\n",
    "        optim.step()\n",
    "        it_loss.append(loss.item())   \n",
    "\n",
    "plt.figure(figsize=(10,5))\n",
    "plt.plot(it_loss)\n",
    "plt.xlabel('Batch counter');\n",
    "plt.ylabel('MSE loss / Batch');\n",
    "plt.grid()"
   ]
  },
  {
   "cell_type": "code",
   "execution_count": 37,
   "metadata": {},
   "outputs": [
    {
     "name": "stdout",
     "output_type": "stream",
     "text": [
      "Test accuracy: 0.97\n"
     ]
    }
   ],
   "source": [
    "model.eval()\n",
    "correct = 0\n",
    "for x, target in dl_tst:\n",
    "    y = model(x).detach().numpy()\n",
    "    yhat = np.zeros_like(y)\n",
    "    yhat[np.where(y>0.5)[0]]=1\n",
    "    correct += (yhat == target.numpy()).sum()\n",
    "\n",
    "print('Test accuracy: {:.2f}'.format(correct/len(ds_tst)))"
   ]
  }
 ],
 "metadata": {
  "kernelspec": {
   "display_name": "Python 3",
   "language": "python",
   "name": "python3"
  },
  "language_info": {
   "codemirror_mode": {
    "name": "ipython",
    "version": 3
   },
   "file_extension": ".py",
   "mimetype": "text/x-python",
   "name": "python",
   "nbconvert_exporter": "python",
   "pygments_lexer": "ipython3",
   "version": "3.8.3"
  }
 },
 "nbformat": 4,
 "nbformat_minor": 4
}
