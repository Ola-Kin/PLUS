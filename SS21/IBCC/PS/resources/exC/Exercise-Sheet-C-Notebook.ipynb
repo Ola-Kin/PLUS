{
 "cells": [
  {
   "cell_type": "markdown",
   "metadata": {},
   "source": [
    "# Exercise sheet C"
   ]
  },
  {
   "cell_type": "code",
   "execution_count": 1,
   "metadata": {},
   "outputs": [],
   "source": [
    "%matplotlib inline\n",
    "import matplotlib.pyplot as plt\n",
    "\n",
    "import numpy as np\n",
    "from scipy.linalg import inv\n",
    "import matplotlib.pyplot as plt\n",
    "from mpl_toolkits.mplot3d import Axes3D"
   ]
  },
  {
   "cell_type": "markdown",
   "metadata": {},
   "source": [
    "### Exercise 1"
   ]
  },
  {
   "cell_type": "code",
   "execution_count": 8,
   "metadata": {},
   "outputs": [],
   "source": [
    "def transverse_relaxation_x(M0,t,T2):\n",
    "    \n",
    "    # !!!!!!!!!!!!!!!!!!!\n",
    "    # YOUR CODE GOES HERE\n",
    "    # !!!!!!!!!!!!!!!!!!!\n",
    "    # return m \n",
    "    \n",
    "    pass"
   ]
  },
  {
   "cell_type": "markdown",
   "metadata": {},
   "source": [
    "**Testing code (please uncomment)**"
   ]
  },
  {
   "cell_type": "code",
   "execution_count": 6,
   "metadata": {},
   "outputs": [],
   "source": [
    "# T2 = 220 \n",
    "# t = np.linspace(100,300)\n",
    "# y = transverse_relaxation_x(1,t,T2)\n",
    "# ymin, ymax = np.min(y), np.max(y)\n",
    "# plt.vlines(233, ymin, transverse_relaxation_x(1,233,T2),linestyles='dashed')\n",
    "# print(transverse_relax_x(1,233,T2))\n",
    "# plt.plot(t, transverse_relaxation_x(1,t,T2), linewidth=3)\n",
    "# plt.ylim([ymin,ymax])\n",
    "# plt.xlim([100,300])\n",
    "# plt.xlabel('Time [ms]');\n",
    "# plt.grid()"
   ]
  },
  {
   "cell_type": "markdown",
   "metadata": {},
   "source": [
    "### Exercise 2"
   ]
  },
  {
   "cell_type": "code",
   "execution_count": 7,
   "metadata": {},
   "outputs": [],
   "source": [
    "def transverse_relaxation_xy(M0,t,T2):\n",
    "    m = np.zeros((len(t),3)) # RETURN VALUE\n",
    "    \n",
    "    # !!!!!!!!!!!!!!!!!!!\n",
    "    # YOUR CODE GOES HERE\n",
    "    # !!!!!!!!!!!!!!!!!!!\n",
    "    \n",
    "    return m"
   ]
  },
  {
   "cell_type": "markdown",
   "metadata": {},
   "source": [
    "**Testing code (please uncomment)**"
   ]
  },
  {
   "cell_type": "code",
   "execution_count": 9,
   "metadata": {},
   "outputs": [],
   "source": [
    "# T2 = 220\n",
    "# M0 = np.array([1,0,0])\n",
    "# t = np.linspace(100,1000)\n",
    "# plt.plot(<YOUR CODE GOES HERE) # fill in to compute the norm of M(t), i.e., ||M(t)||\n",
    "# plt.xlabel('Time [ms]');\n",
    "# plt.grid()"
   ]
  },
  {
   "cell_type": "markdown",
   "metadata": {},
   "source": [
    "### Exercise 3"
   ]
  },
  {
   "cell_type": "code",
   "execution_count": 10,
   "metadata": {},
   "outputs": [],
   "source": [
    "def longitudinal_relaxation(M0,t,T1,T2):\n",
    "    m = np.zeros((len(t),3)) # RETURN VALUE\n",
    "    \n",
    "    # !!!!!!!!!!!!!!!!!!!\n",
    "    # YOUR CODE GOES HERE\n",
    "    # !!!!!!!!!!!!!!!!!!!\n",
    "    \n",
    "    return m"
   ]
  },
  {
   "cell_type": "markdown",
   "metadata": {},
   "source": [
    "**Testing code (please uncomment)**"
   ]
  },
  {
   "cell_type": "code",
   "execution_count": 11,
   "metadata": {},
   "outputs": [],
   "source": [
    "# M0 = np.array([1,0,0]) \n",
    "# t = np.linspace(100,2000) \n",
    "# m = longitudinal_relaxation(M0,t,600,120)\n",
    "# plt.plot(t,m[:,2])\n",
    "# plt.xlabel('Time [ms]');\n",
    "# plt.grid()"
   ]
  },
  {
   "cell_type": "markdown",
   "metadata": {},
   "source": [
    "### Exercise 4\n",
    "\n",
    "Below are some **helper functions**:"
   ]
  },
  {
   "cell_type": "code",
   "execution_count": 24,
   "metadata": {},
   "outputs": [],
   "source": [
    "def zRot(phi, is_deg=False):\n",
    "    if is_deg:\n",
    "        phi = np.deg2rad(phi)\n",
    "    R = np.array([\n",
    "            [np.cos(phi), -np.sin(phi), 0],\n",
    "            [np.sin(phi), +np.cos(phi), 0],\n",
    "            [0, 0, 1]])\n",
    "    return R\n",
    "\n",
    "def xRot(phi, is_deg=False):\n",
    "    if is_deg:\n",
    "        phi = np.deg2rad(phi)\n",
    "    R = np.array([\n",
    "            [1,0,0],\n",
    "            [0,np.cos(phi),-np.sin(phi)],\n",
    "            [0,np.sin(phi),+np.cos(phi)]])\n",
    "    return R\n",
    "        \n",
    "def yRot(phi, is_deg=False):\n",
    "    if is_deg:\n",
    "        phi = np.deg2rad(phi)\n",
    "    R = np.array([\n",
    "            [np.cos(phi),0,np.sin(phi)],\n",
    "            [0,1,0],\n",
    "            [-np.sin(phi),0,np.cos(phi)]])\n",
    "    return R\n",
    "\n",
    "def Rth(phi, theta):\n",
    "    mz = zRot(-theta)\n",
    "    mx = xRot(phi)\n",
    "    return np.dot(np.dot(inv(mz),mx),mz)"
   ]
  },
  {
   "cell_type": "code",
   "execution_count": 25,
   "metadata": {},
   "outputs": [],
   "source": [
    "def z_rot_vec(vec, phi, is_deg=False):\n",
    "    if is_deg:\n",
    "        phi = np.deg2rad(phi)\n",
    "    R = zRot(phi)\n",
    "    rot_vec = np.dot(R, vec)\n",
    "    p = np.vstack(\n",
    "        (np.array([0,0,0]), rot_vec))\n",
    "    return rot_vec, p \n",
    "\n",
    "def x_rot_vec(vec, phi, is_deg=False):\n",
    "    if is_deg:\n",
    "        phi = np.deg2rad(phi)\n",
    "    R = xRot(phi)\n",
    "    rot_vec = np.dot(R, vec)\n",
    "    p = np.vstack(\n",
    "        (np.array([0,0,0]), rot_vec))\n",
    "    return rot_vec, p \n",
    "\n",
    "def y_rot_vec(vec, phi, is_deg=False):\n",
    "    if is_deg:\n",
    "        phi = np.deg2rad(phi)\n",
    "    R = yRot(phi)\n",
    "    rot_vec = np.dot(R, vec)\n",
    "    p = np.vstack(\n",
    "        (np.array([0,0,0]), rot_vec))\n",
    "    return rot_vec, p "
   ]
  },
  {
   "cell_type": "code",
   "execution_count": 14,
   "metadata": {},
   "outputs": [],
   "source": [
    "def freep(T,T1,T2,df):\n",
    "    phi = 2*np.pi*df*T/1000.\n",
    "    \n",
    "    # !!!!!!!!!!!!!!!!!!!\n",
    "    # YOUR CODE GOES HERE\n",
    "    # !!!!!!!!!!!!!!!!!!!\n",
    "    # A = ...\n",
    "    # B = ...\n",
    "    # return A, B"
   ]
  },
  {
   "cell_type": "markdown",
   "metadata": {},
   "source": [
    "**Testing code (please uncomment)**"
   ]
  },
  {
   "cell_type": "code",
   "execution_count": 2,
   "metadata": {},
   "outputs": [],
   "source": [
    "dT = 1     # 1 ms time deltas\n",
    "T  = 1000  # 1000 ms\n",
    "N  = np.ceil(T/dT).astype('int') # Time steps\n",
    "df = 10  # Hz off-resonance\n",
    "T1 = 600 # T1 time in ms\n",
    "T2 = 100 # T2 time in ms\n",
    "\n",
    "A, B = freep(dT,T1,T2,df)\n",
    "\n",
    "M = np.zeros((N,3))\n",
    "M[0,:] = np.array([1,0,0])\n",
    "\n",
    "# !!!!!!!!!!!!!!!!!!!!!!!!!!!!!!!!\n",
    "# YOUR CODE TO FILL UP M GOES HERE\n",
    "# !!!!!!!!!!!!!!!!!!!!!!!!!!!!!!!!\n",
    "\n",
    "# time = list(range(N))*dT\n",
    "# plt.plot(time,M[:,0], linewidth=3, label='M_x')\n",
    "# plt.plot(time,M[:,1], linewidth=3, label='M_y')\n",
    "# plt.plot(time,M[:,2], linewidth=3, label='M_z')\n",
    "# plt.grid()\n",
    "# plt.legend()\n",
    "# plt.xlabel('Time [ms]');"
   ]
  }
 ],
 "metadata": {
  "kernelspec": {
   "display_name": "Python 3",
   "language": "python",
   "name": "python3"
  },
  "language_info": {
   "codemirror_mode": {
    "name": "ipython",
    "version": 3
   },
   "file_extension": ".py",
   "mimetype": "text/x-python",
   "name": "python",
   "nbconvert_exporter": "python",
   "pygments_lexer": "ipython3",
   "version": "3.8.3"
  }
 },
 "nbformat": 4,
 "nbformat_minor": 4
}
