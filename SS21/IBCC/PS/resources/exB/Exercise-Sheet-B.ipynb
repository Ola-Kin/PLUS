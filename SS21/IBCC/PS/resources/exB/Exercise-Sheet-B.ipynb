{
 "cells": [
  {
   "cell_type": "markdown",
   "metadata": {},
   "source": [
    "# Exercise sheet B - Template"
   ]
  },
  {
   "cell_type": "code",
   "execution_count": 36,
   "metadata": {},
   "outputs": [],
   "source": [
    "# Some imports\n",
    "import numpy as np\n",
    "import scipy.sparse as sp\n",
    "import scipy.sparse.linalg as spla"
   ]
  },
  {
   "cell_type": "markdown",
   "metadata": {},
   "source": [
    "## Exercise 1\n",
    "\n",
    "Define the correct matrix $\\mathbf{A}$ and $\\mathbf{b}$ for use with, e.g., `np.linalg.lstsq` or `scipy.linalg.lstsq` (see documentation), then call the least-squares solver appropriately. \n",
    "\n",
    "**Note**: Both examples from the \n",
    "exercise sheet work the same way, just the matrices are different."
   ]
  },
  {
   "cell_type": "code",
   "execution_count": 9,
   "metadata": {},
   "outputs": [],
   "source": [
    "# UNCOMMENT AND COMPLETE\n",
    "# A = np.array(...).astype('float32')\n",
    "# b = np.array(...).astype('float32')\n",
    "# ..."
   ]
  },
  {
   "cell_type": "markdown",
   "metadata": {},
   "source": [
    "## Exercise 2\n",
    "\n",
    "Implement the Karczmarz algorithm from the lecture (see [here](https://github.com/rkwitt/teaching/blob/master/SS21/IBCC/VO/AlgebraicReconstruction.pdf)) and solve both problems from Exercise 1 with this algorithm.\n",
    "\n",
    "Below is some **helper code**, e.g., to normalize the system of linear equations. Say you have\n",
    "$$\n",
    "\\mathbf{A} = \n",
    "\\left(\n",
    "\\begin{matrix}\n",
    "1 & 0 & 1 \\\\\n",
    "0 & 0 & 1 \\\\\n",
    "\\end{matrix}\n",
    "\\right)\n",
    "$$\n",
    "and \n",
    "$$\n",
    "\\mathbf{b} = [3,4]^\\top\n",
    "$$\n",
    "then `normalize_system` would work as follows:"
   ]
  },
  {
   "cell_type": "code",
   "execution_count": 18,
   "metadata": {},
   "outputs": [
    {
     "name": "stdout",
     "output_type": "stream",
     "text": [
      "[[0.70710677 0.         0.70710677]\n",
      " [0.         0.         1.        ]]\n",
      "[2.1213205 4.       ]\n"
     ]
    }
   ],
   "source": [
    "A = np.array([[1,0,1],[0,0,1]]).astype('float32')\n",
    "b = np.array([3,4]).astype('float32')\n",
    "ret = normalize_system(A,b)\n",
    "A_norm = ret[0]\n",
    "b_norm = ret[1]\n",
    "print(A_norm)\n",
    "print(b_norm)"
   ]
  },
  {
   "cell_type": "markdown",
   "metadata": {},
   "source": [
    "Use `normalize_system` to create a normalized $\\mathbf{A}$ and $\\mathbf{b}$ that you use when calling your implementation of the Kaczmarz algorithm.\n",
    "\n",
    "### Termination criterion\n",
    "\n",
    "As termination criterion compute\n",
    "\n",
    "$$\\mathbf{r}^{(k)} = \\mathbf{b} - \\mathbf{A}\\mathbf{x}^{(k)}$$\n",
    "\n",
    "and check\n",
    "\n",
    "$$\\|\\mathbf{r}^{(k)}\\|_2 \\leq 10^{-6}$$\n",
    "\n",
    "where the norm can be computed using `np.linalg.norm`.\n",
    "\n",
    "**Note**: Inner products with `numpy` can easily be done either with `np.dot` or using the syntax `a @ b`.\n",
    "\n",
    "### Initialization\n",
    "\n",
    "Initialize $\\mathbf{x}^{(0)}$ as the vector of **all zeros**."
   ]
  },
  {
   "cell_type": "code",
   "execution_count": 1,
   "metadata": {},
   "outputs": [],
   "source": [
    "def compute_row_norms(A):\n",
    "    if sp.issparse(A):\n",
    "        return spla.norm(A, axis=1)\n",
    "    return np.linalg.norm(A, axis=1)\n",
    "\n",
    "\n",
    "def normalize_matrix(A, row_norms):\n",
    "    normalization_matrix = sp.diags(1 / row_norms)\n",
    "    return normalization_matrix @ A\n",
    "\n",
    "\n",
    "def normalize_system(A, b):\n",
    "    if not sp.issparse(A):\n",
    "        A = np.array(A)\n",
    "\n",
    "    row_norms = compute_row_norms(A)\n",
    "    A = normalize_matrix(A, row_norms=row_norms)\n",
    "    b = np.array(b).ravel() / row_norms\n",
    "\n",
    "    return A, b, row_norms"
   ]
  },
  {
   "cell_type": "code",
   "execution_count": 25,
   "metadata": {},
   "outputs": [],
   "source": [
    "def kaczmarz(A,b):\n",
    "    # YOUR CODE GOES HERE\n",
    "    # return x_k\n",
    "    pass"
   ]
  }
 ],
 "metadata": {
  "kernelspec": {
   "display_name": "Python 3",
   "language": "python",
   "name": "python3"
  },
  "language_info": {
   "codemirror_mode": {
    "name": "ipython",
    "version": 3
   },
   "file_extension": ".py",
   "mimetype": "text/x-python",
   "name": "python",
   "nbconvert_exporter": "python",
   "pygments_lexer": "ipython3",
   "version": "3.8.3"
  }
 },
 "nbformat": 4,
 "nbformat_minor": 4
}
