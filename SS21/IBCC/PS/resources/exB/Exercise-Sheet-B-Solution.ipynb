{
 "cells": [
  {
   "cell_type": "markdown",
   "metadata": {},
   "source": [
    "# Exercise sheet B - Template"
   ]
  },
  {
   "cell_type": "code",
   "execution_count": 36,
   "metadata": {},
   "outputs": [],
   "source": [
    "# Some imports\n",
    "import numpy as np\n",
    "import scipy.sparse as sp\n",
    "import scipy.sparse.linalg as spla"
   ]
  },
  {
   "cell_type": "markdown",
   "metadata": {},
   "source": [
    "## Exercise 1\n",
    "\n",
    "Define the correct matrix $\\mathbf{A}$ and $\\mathbf{b}$ for use with, e.g., `np.linalg.lstsq` or `scipy.linalg.lstsq` (see documentation), then call the least-squares solver appropriately. \n",
    "\n",
    "**Note**: Both examples from the \n",
    "exercise sheet work the same way, just the matrices are different."
   ]
  },
  {
   "cell_type": "code",
   "execution_count": 9,
   "metadata": {},
   "outputs": [],
   "source": [
    "# UNCOMMENT AND COMPLETE\n",
    "# A = np.array(...).astype('float32')\n",
    "# b = np.array(...).astype('float32')\n",
    "# ..."
   ]
  },
  {
   "cell_type": "markdown",
   "metadata": {},
   "source": [
    "## Exercise 2\n",
    "\n",
    "Implement the Karczmarz algorithm from the lecture (see [here](https://github.com/rkwitt/teaching/blob/master/SS21/IBCC/VO/AlgebraicReconstruction.pdf)) and solve both problems from Exercise 1 with this algorithm.\n",
    "\n",
    "Below is some **helper code**, e.g., to normalize the system of linear equations. Say you have\n",
    "$$\n",
    "\\mathbf{A} = \n",
    "\\left(\n",
    "\\begin{matrix}\n",
    "1 & 0 & 1 \\\\\n",
    "0 & 0 & 1 \\\\\n",
    "\\end{matrix}\n",
    "\\right)\n",
    "$$\n",
    "and \n",
    "$$\n",
    "\\mathbf{b} = [3,4]^\\top\n",
    "$$\n",
    "then `normalize_system` would work as follows:"
   ]
  },
  {
   "cell_type": "code",
   "execution_count": 18,
   "metadata": {},
   "outputs": [
    {
     "name": "stdout",
     "output_type": "stream",
     "text": [
      "[[0.70710677 0.         0.70710677]\n",
      " [0.         0.         1.        ]]\n",
      "[2.1213205 4.       ]\n"
     ]
    }
   ],
   "source": [
    "A = np.array([[1,0,1],[0,0,1]]).astype('float32')\n",
    "b = np.array([3,4]).astype('float32')\n",
    "ret = normalize_system(A,b)\n",
    "A_norm = ret[0]\n",
    "b_norm = ret[1]\n",
    "print(A_norm)\n",
    "print(b_norm)"
   ]
  },
  {
   "cell_type": "markdown",
   "metadata": {},
   "source": [
    "Use `normalize_system` to create a normalized $\\mathbf{A}$ and $\\mathbf{b}$ that you use when calling your implementation of the Kaczmarz algorithm.\n",
    "\n",
    "### Termination criterion\n",
    "\n",
    "As termination criterion compute\n",
    "\n",
    "$$\\mathbf{r} = \\mathbf{b} - \\mathbf{A}\\mathbf{x}^{(k)}$$\n",
    "\n",
    "and check\n",
    "\n",
    "$$\\|\\mathbf{r}\\|_2 \\leq 10^{-6}$$\n",
    "\n",
    "where the norm can be computed using `np.linalg.norm`.\n",
    "\n",
    "**Note**: Inner products with `numpy` can easily be done either with `np.dot` or using the syntax `a @ b`.\n",
    "\n",
    "### Initialization\n",
    "\n",
    "Initialize $\\mathbf{x}^{(0)}$ as the vector of **all zeros**."
   ]
  },
  {
   "cell_type": "code",
   "execution_count": 1,
   "metadata": {},
   "outputs": [],
   "source": [
    "def compute_row_norms(A):\n",
    "    if sp.issparse(A):\n",
    "        return spla.norm(A, axis=1)\n",
    "    return np.linalg.norm(A, axis=1)\n",
    "\n",
    "\n",
    "def normalize_matrix(A, row_norms):\n",
    "    normalization_matrix = sp.diags(1 / row_norms)\n",
    "    return normalization_matrix @ A\n",
    "\n",
    "\n",
    "def normalize_system(A, b):\n",
    "    if not sp.issparse(A):\n",
    "        A = np.array(A)\n",
    "\n",
    "    row_norms = compute_row_norms(A)\n",
    "    A = normalize_matrix(A, row_norms=row_norms)\n",
    "    b = np.array(b).ravel() / row_norms\n",
    "\n",
    "    return A, b, row_norms"
   ]
  },
  {
   "cell_type": "code",
   "execution_count": 25,
   "metadata": {},
   "outputs": [],
   "source": [
    "def kaczmarz(A,b):\n",
    "    # YOUR CODE GOES HERE\n",
    "    # return x_k\n",
    "    pass"
   ]
  },
  {
   "cell_type": "markdown",
   "metadata": {},
   "source": [
    "## Solution\n",
    "\n",
    "### Exercise 1"
   ]
  },
  {
   "cell_type": "code",
   "execution_count": 30,
   "metadata": {},
   "outputs": [
    {
     "name": "stdout",
     "output_type": "stream",
     "text": [
      "[1. 2. 3. 4.]\n",
      "[1. 2. 3. 4.]\n"
     ]
    }
   ],
   "source": [
    "A0 = np.array([\n",
    "    [1,1,0,0],\n",
    "    [0,0,1,1],\n",
    "    [1,0,1,0],\n",
    "    [0,1,0,1],\n",
    "    [1,0,0,1]\n",
    "]).astype('float32')\n",
    "b0 = np.array([3,7,4,6,5]).astype('float32')\n",
    "\n",
    "sol0 = np.linalg.lstsq(A0,b0, rcond=None)\n",
    "print(sol0[0])\n",
    "\n",
    "\n",
    "A1 = np.array([\n",
    "    [1,1,0,0],\n",
    "    [0,0,1,1],\n",
    "    [0,1,0,0],\n",
    "    [1,0,0,1],\n",
    "    [0,0,1,0],\n",
    "    [0,1,0,1],\n",
    "    [1,0,1,0],\n",
    "    [0,0,0,1],\n",
    "    [0,1,1,0],\n",
    "    [1,0,0,0]\n",
    "]).astype('float32')\n",
    "b1 = np.array([3,7,2,5,3,6,4,4,5,1]).astype('float32')\n",
    "sol1 = np.linalg.lstsq(A1,b1, rcond=None)\n",
    "print(sol1[0])"
   ]
  },
  {
   "cell_type": "markdown",
   "metadata": {},
   "source": [
    "### Exercise 2"
   ]
  },
  {
   "cell_type": "code",
   "execution_count": 33,
   "metadata": {},
   "outputs": [],
   "source": [
    "class Kaczmarz:\n",
    "    def __init__(self, A, b, max_iter=100, tol=1e-12):\n",
    "\n",
    "        # normalize system\n",
    "        self._A, self._b, self._row_norms = normalize_system(A, b)        \n",
    "        self._n_rows = self._A.shape[0]\n",
    "        self._n_cols = self._A.shape[1]\n",
    "        self._max_iter = max_iter\n",
    "        self._tol = tol\n",
    "\n",
    "    def _check_norm(self, xk):\n",
    "        residual = self._b - self._A @ xk\n",
    "        if np.linalg.norm(residual) < self._tol:\n",
    "            return True\n",
    "        return False\n",
    "            \n",
    "    def solve(self):\n",
    "        \n",
    "        xk = np.zeros(self._n_cols)\n",
    "        \n",
    "        n_iter = 1\n",
    "        while not self._check_norm(xk):\n",
    "            for k in range(self._n_rows):        \n",
    "                # cyclic index select\n",
    "                ik = k % self._n_rows\n",
    "                \n",
    "                ai = self._A[ik]\n",
    "                bi = self._b[ik]\n",
    "                xk = xk + (bi - ai @ xk) * ai\n",
    "\n",
    "            n_iter += 1\n",
    "            if n_iter > self._max_iter:\n",
    "                print('Not converged in {} iterations'.format(self._max_iter))\n",
    "                return xk\n",
    "                \n",
    "        return xk"
   ]
  },
  {
   "cell_type": "code",
   "execution_count": 35,
   "metadata": {},
   "outputs": [
    {
     "name": "stdout",
     "output_type": "stream",
     "text": [
      "[1.00000001 2.0000003  3.         4.00000007]\n",
      "[1.         2.00000038 2.9999997  4.        ]\n"
     ]
    }
   ],
   "source": [
    "solver = Kaczmarz(A0,b0,max_iter=5000,tol=1e-6)\n",
    "x0 = solver.solve()\n",
    "print(x0)\n",
    "\n",
    "solver = Kaczmarz(A1,b1,max_iter=5000,tol=1e-6)\n",
    "x1 = solver.solve()\n",
    "print(x1)"
   ]
  }
 ],
 "metadata": {
  "kernelspec": {
   "display_name": "Python 3",
   "language": "python",
   "name": "python3"
  },
  "language_info": {
   "codemirror_mode": {
    "name": "ipython",
    "version": 3
   },
   "file_extension": ".py",
   "mimetype": "text/x-python",
   "name": "python",
   "nbconvert_exporter": "python",
   "pygments_lexer": "ipython3",
   "version": "3.8.3"
  }
 },
 "nbformat": 4,
 "nbformat_minor": 4
}
