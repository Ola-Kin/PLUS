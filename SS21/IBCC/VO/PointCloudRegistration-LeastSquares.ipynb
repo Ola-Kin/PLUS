{
 "cells": [
  {
   "cell_type": "markdown",
   "metadata": {},
   "source": [
    "### Demo for 3D point cloud registration (with equal number of points)"
   ]
  },
  {
   "cell_type": "code",
   "execution_count": 120,
   "metadata": {},
   "outputs": [],
   "source": [
    "import numpy as np\n",
    "from scipy.spatial.transform import Rotation as R"
   ]
  },
  {
   "cell_type": "code",
   "execution_count": 121,
   "metadata": {},
   "outputs": [],
   "source": [
    "# sample 10 random points in 3D\n",
    "x = np.random.randn(10,3)\n",
    "\n",
    "# establish some rotation\n",
    "rot = R.from_euler('z', 10, degrees=True)\n",
    "# establish some translation \n",
    "t = np.random.randn(1,3)*0.1\n",
    "# ... and some scaling\n",
    "scale = 2.0\n",
    "\n",
    "# get second point cloud as sRx\n",
    "y = scale*rot.apply(x) + t"
   ]
  },
  {
   "cell_type": "code",
   "execution_count": 107,
   "metadata": {},
   "outputs": [],
   "source": [
    "# def get_scale(y,x):\n",
    "#     return np.sqrt(np.sum(np.linalg.norm(yp,axis=1)**2.0)/np.sum(np.linalg.norm(xp,axis=1)**2.0))"
   ]
  },
  {
   "cell_type": "code",
   "execution_count": 122,
   "metadata": {},
   "outputs": [],
   "source": [
    "# H = np.zeros((3,3))\n",
    "# for i in range(xp.shape[0]):\n",
    "#     H += np.outer(xp[i],yp[i])"
   ]
  },
  {
   "cell_type": "code",
   "execution_count": 133,
   "metadata": {},
   "outputs": [],
   "source": [
    "def rigid_transform_3D(A, B):\n",
    "    \"\"\"\n",
    "    A and B have to be numpy arrays of the form (3,N), i.e.,\n",
    "    N points in 3D.\n",
    "    \"\"\"\n",
    "    \n",
    "    assert A.shape == B.shape\n",
    "\n",
    "    # find mean column wise\n",
    "    centroid_A = np.mean(A, axis=1)\n",
    "    centroid_B = np.mean(B, axis=1)\n",
    "\n",
    "    # ensure centroids are 3x1\n",
    "    centroid_A = centroid_A.reshape(-1, 1)\n",
    "    centroid_B = centroid_B.reshape(-1, 1)\n",
    "\n",
    "    # subtract mean (as on slide 6)\n",
    "    Am = A - centroid_A\n",
    "    Bm = B - centroid_B\n",
    "\n",
    "    # compute matrix H (as on slide 12), i.e., the sum over the outer products\n",
    "    H = Am @ np.transpose(Bm)\n",
    "\n",
    "    # find rotation via SVD and compute R as V*H' (as on slide 12)\n",
    "    U, S, Vt = np.linalg.svd(H)\n",
    "    R = Vt.T @ U.T\n",
    "\n",
    "    # next, as we know rotation, we compute scaling\n",
    "    scale = np.sqrt(np.sum(np.linalg.norm(Bm.transpose(),axis=1)**2.0)/np.sum(np.linalg.norm(Am.transpose(),axis=1)**2.0))\n",
    "    \n",
    "    # special reflection case\n",
    "    if np.linalg.det(R) < 0:\n",
    "        print(\"det(R) < R, reflection detected!, correcting for it ...\")\n",
    "        Vt[2,:] *= -1\n",
    "        R = Vt.T @ U.T\n",
    "\n",
    "    t = -scale * R @ centroid_A + centroid_B\n",
    "\n",
    "    return R, t, scale"
   ]
  },
  {
   "cell_type": "code",
   "execution_count": 134,
   "metadata": {},
   "outputs": [],
   "source": [
    "est_rot,est_t,est_scale = rigid_transform_3D(x.transpose(),y.transpose())"
   ]
  },
  {
   "cell_type": "code",
   "execution_count": 149,
   "metadata": {},
   "outputs": [
    {
     "name": "stdout",
     "output_type": "stream",
     "text": [
      "Fro. norm diff. in rotation : 0.00000000000000050916\n",
      "Abs. diff. in scaling:        0.00000000000000000000\n",
      "Norm. diff in transation:     0.00000000000000062222\n"
     ]
    }
   ],
   "source": [
    "print('Fro. norm diff. in rotation : {:.20f}'.format(np.linalg.norm(est_rot - rot.as_matrix(),'fro')))\n",
    "print('Abs. diff. in scaling:        {:.20f}'.format(np.abs(scale - est_scale)))\n",
    "print('Norm. diff in transation:     {:.20f}'.format(np.linalg.norm(t.ravel()-est_t.ravel())))"
   ]
  }
 ],
 "metadata": {
  "kernelspec": {
   "display_name": "Python 3",
   "language": "python",
   "name": "python3"
  },
  "language_info": {
   "codemirror_mode": {
    "name": "ipython",
    "version": 3
   },
   "file_extension": ".py",
   "mimetype": "text/x-python",
   "name": "python",
   "nbconvert_exporter": "python",
   "pygments_lexer": "ipython3",
   "version": "3.8.3"
  }
 },
 "nbformat": 4,
 "nbformat_minor": 4
}
