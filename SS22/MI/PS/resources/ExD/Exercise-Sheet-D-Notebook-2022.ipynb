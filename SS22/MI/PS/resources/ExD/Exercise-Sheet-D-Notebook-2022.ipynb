{
 "cells": [
  {
   "cell_type": "markdown",
   "id": "2ddf5681",
   "metadata": {},
   "source": [
    "# Exercise sheet D\n",
    "\n",
    "In this exercise sheet, we implement a **KDTree** data structure. In particular, (1) building the data structure from a list of points and (2) inserting a point into the KDTree.\n",
    "\n",
    "The points will be given as a *list of lists*, e.g., a list of 2D points (see lecture slides)\n",
    "```Python\n",
    "pts =[\n",
    "        [7,2.],\n",
    "        [5,4.],\n",
    "        [1,2.],\n",
    "        [4,7.],\n",
    "        [9,6.],\n",
    "        [8,1.]\n",
    "    ]\n",
    "```\n",
    "and the KDTree will also be a list of lists. We will use *cycling through dimensions* and splitting by the *upper median*. Given the example of points from above, we want to obtain a KDTree encoded like \n",
    "\n",
    "```\n",
    "[\n",
    "    [\n",
    "        [None, None, [1, 2.0]], \n",
    "        [None, None, [4, 7.0]], \n",
    "        [5, 4.0]\n",
    "    ],\n",
    "    [\n",
    "        [None, None, [8, 1.0]], \n",
    "        None, \n",
    "        [9, 6.0]\n",
    "    ],\n",
    "    [7, 2.0]\n",
    "]\n",
    "```\n",
    "A node in the tree will be represented by list of three elements (*left branch*, *right branch*, *root*), where each element is either a point or again a list of three elements. In the example above, `[7,2.0]` is the *root* node, with *left branch*\n",
    "```\n",
    "    [\n",
    "        [None, None, [1, 2.0]], \n",
    "        [None, None, [4, 7.0]], \n",
    "        [5, 4.0]\n",
    "    ]\n",
    "```\n",
    "and *right branch*\n",
    "```\n",
    "[\n",
    "        [None, None, [8, 1.0]], \n",
    "        None, \n",
    "        [9, 6.0]\n",
    "]\n",
    "```\n",
    "Hence, we have `[5,4.]` to the left of the root `[7,2.]`, and `[9, 6.0]` to the right of the root. Each of those nodes has their own subtree. This structure allows for a straightforward recursive implementation of building up the KDTree. "
   ]
  },
  {
   "cell_type": "code",
   "execution_count": 125,
   "id": "b04a0792",
   "metadata": {},
   "outputs": [],
   "source": [
    "import time\n",
    "import numpy as np\n",
    "from typing import List\n",
    "\n",
    "%matplotlib inline\n",
    "import matplotlib.pyplot as plt"
   ]
  },
  {
   "cell_type": "markdown",
   "id": "012b19f6",
   "metadata": {},
   "source": [
    "### Exercise D.1 (5 points)\n",
    "\n",
    "Implement the creation of a KDTree (method `create`) within the following class."
   ]
  },
  {
   "cell_type": "code",
   "execution_count": 103,
   "id": "0811c96d",
   "metadata": {},
   "outputs": [],
   "source": [
    "class KDTreeImpl(object):\n",
    "    def __init__(self, points: List[List], dim: int):\n",
    "        def create(points, i=0):\n",
    "            \"\"\"Create KDTree from a list of points. \n",
    "            \n",
    "            Args:\n",
    "                points (List[List]): List of points\n",
    "                i (int): Splitting dimension\n",
    "            \"\"\"\n",
    "            \n",
    "            pass\n",
    "            # \n",
    "            # YOUR CODE GOES HERE\n",
    "            #\n",
    "        \n",
    "        self._root = create(points)"
   ]
  },
  {
   "cell_type": "markdown",
   "id": "4c479678",
   "metadata": {},
   "source": [
    "Note that you are free to sort the points along the given dimension first.\n",
    "\n",
    "Below is some testing code (with the example from the lecture). Ideally, the output would be of the form given in the initial example. *Note that there is not much code to write, just appropriately defining the recursion!*"
   ]
  },
  {
   "cell_type": "code",
   "execution_count": null,
   "id": "849f0a41",
   "metadata": {},
   "outputs": [],
   "source": [
    "pts =[\n",
    "        [7,2.],\n",
    "        [5,4.],\n",
    "        [1,2.],\n",
    "        [4,7.],\n",
    "        [9,6.],\n",
    "        [8,1.]\n",
    "]\n",
    "\n",
    "tree = KDTreeImpl(pts, 2)\n",
    "print(tree._root)"
   ]
  },
  {
   "cell_type": "markdown",
   "id": "d01cf12c",
   "metadata": {},
   "source": [
    "### Exercise D.2 (5 points)\n",
    "\n",
    "Add to the class from above a method `add_point` that takes a new point and inserts it into the tree."
   ]
  },
  {
   "cell_type": "code",
   "execution_count": 108,
   "id": "cbab02d2",
   "metadata": {},
   "outputs": [],
   "source": [
    "class KDTreeImpl(object):\n",
    "    def __init__(self, points: List[List], dim: int):\n",
    "        def create(points, i=0):\n",
    "            \"\"\"Create KDTree from a list of points. \n",
    "            \n",
    "            Args:\n",
    "                points (List[List]): List of points\n",
    "                i (int): Splitting dimension\n",
    "            \"\"\"\n",
    "            \n",
    "            pass # remove\n",
    "            # \n",
    "            # YOUR CODE GOES HERE\n",
    "            #\n",
    "        \n",
    "        def add_point(node, point, i=0):\n",
    "            \"\"\"Add point to the KDTree.\n",
    "            \n",
    "            Args: \n",
    "                node (List): node (represented as a list with 3 elements) \n",
    "                             where to insert.\n",
    "                point (List): point to insert, e.g., [8,1]\n",
    "                i (int): Splitting dimension\n",
    "            \"\"\"\n",
    "            pass # remove \n",
    "            #\n",
    "            # YOUR CODE GOES HERE\n",
    "            #\n",
    "            \n",
    "        self._add_point = add_point\n",
    "        self._root = create(points)\n",
    "        \n",
    "    \"\"\"\n",
    "    The following class method will be used later. If there is no root\n",
    "    node, we will insert the point as the root, otherwise we call _add_point \n",
    "    with the root node of our current tree and the point to be insererted.\n",
    "    \"\"\"\n",
    "    def add_point(self, point):\n",
    "        if self._root is None:\n",
    "            self._root = [None, None, point]\n",
    "        else:\n",
    "            self._add_point(self._root, point)"
   ]
  },
  {
   "cell_type": "markdown",
   "id": "80686bad",
   "metadata": {},
   "source": [
    "Test with ..."
   ]
  },
  {
   "cell_type": "code",
   "execution_count": 112,
   "id": "d34f0045",
   "metadata": {},
   "outputs": [
    {
     "name": "stdout",
     "output_type": "stream",
     "text": [
      "[[[None, None, [1, 2.0]], None, [4, 7.0]], [[None, [None, None, [8, 1.0]], [7, 2.0]], None, [9, 6.0]], [5, 4.0]]\n"
     ]
    }
   ],
   "source": [
    "pts =[\n",
    "        [7,2.],\n",
    "        [5,4.],\n",
    "        [1,2.],\n",
    "        [4,7.],\n",
    "        [9,6.],\n",
    "]\n",
    "tree = KDTreeImpl(pts, 2)\n",
    "tree.add_point([8,1.])\n",
    "print(tree._root)"
   ]
  },
  {
   "cell_type": "markdown",
   "id": "72f389e9",
   "metadata": {},
   "source": [
    "### Exercise D.3 (4 points)\n",
    "\n",
    "Conduct a little **runtime study**. Draw random samples of points of varying size (e.g., within [100,100000]), measure the time it takes to create the KDTree and eventually plot the number of points vs. the measured runtime. You can create random points via `np.random.rand()`, e.g., 1000 random 2D points\n",
    "\n",
    "```Python\n",
    "pts = np.random.randn(1000,2).tolist()\n",
    "```\n",
    "\n",
    "and runtime can be (very roughly) measured via\n",
    "```Python\n",
    "import time\n",
    "\n",
    "t0 = time.time()\n",
    "# ...\n",
    "ela = time.time()-t0\n",
    "print(ela)\n",
    "```\n",
    "\n",
    "\n"
   ]
  }
 ],
 "metadata": {
  "kernelspec": {
   "display_name": "Python 3 (ipykernel)",
   "language": "python",
   "name": "python3"
  },
  "language_info": {
   "codemirror_mode": {
    "name": "ipython",
    "version": 3
   },
   "file_extension": ".py",
   "mimetype": "text/x-python",
   "name": "python",
   "nbconvert_exporter": "python",
   "pygments_lexer": "ipython3",
   "version": "3.9.7"
  }
 },
 "nbformat": 4,
 "nbformat_minor": 5
}
