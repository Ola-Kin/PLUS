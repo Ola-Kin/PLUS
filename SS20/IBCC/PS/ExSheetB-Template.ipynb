{
 "cells": [
  {
   "cell_type": "markdown",
   "metadata": {},
   "source": [
    "# Ex-Sheet B - Template"
   ]
  },
  {
   "cell_type": "code",
   "execution_count": 132,
   "metadata": {},
   "outputs": [],
   "source": [
    "%matplotlib inline\n",
    "\n",
    "import matplotlib.pyplot as plt\n",
    "from scipy.linalg import inv\n",
    "import numpy as np"
   ]
  },
  {
   "cell_type": "code",
   "execution_count": 3,
   "metadata": {},
   "outputs": [],
   "source": [
    "def zRot(phi):\n",
    "    pass # remove this\n",
    "    # your code goes here\n",
    "    # R = ...\n",
    "    # return R"
   ]
  },
  {
   "cell_type": "code",
   "execution_count": 4,
   "metadata": {},
   "outputs": [],
   "source": [
    "def freep(T, T1, T2, df):\n",
    "    phi = 2*np.pi*df*T/1000.\n",
    "    # your code goes here\n",
    "    # A = \n",
    "    # B = \n",
    "    # return A,B"
   ]
  },
  {
   "cell_type": "code",
   "execution_count": 137,
   "metadata": {},
   "outputs": [],
   "source": [
    "dT = 1             # 1ms time deltas\n",
    "T  = 1000          # time (in [ms])\n",
    "N  = np.ceil(T/dT).astype('int') # time steps\n",
    "df = 10    # 10 [hz]\n",
    "T1 = 600   # 600 [ms]\n",
    "T2 = 100   # 100 [ms]\n",
    "\n",
    "A, B = freep(dT, T1, T2, df)\n",
    "\n",
    "M = np.zeros((N,3))\n",
    "M[0,:] = np.array([1,0,0])\n",
    "# your code to fill up M goes here"
   ]
  },
  {
   "cell_type": "markdown",
   "metadata": {},
   "source": [
    "### Below is the plotting code\n",
    "\n",
    "Comment it in!"
   ]
  },
  {
   "cell_type": "code",
   "execution_count": 5,
   "metadata": {},
   "outputs": [],
   "source": [
    "# time = list(range(N))*dT\n",
    "# plt.plot(time,M[:,0], linewidth=3, label='M_x')\n",
    "# plt.plot(time,M[:,1], linewidth=3, label='M_y')\n",
    "# plt.plot(time,M[:,2], linewidth=3, label='M_z')\n",
    "# plt.grid()\n",
    "# plt.legend()\n",
    "# plt.xlabel('Time [ms]');"
   ]
  },
  {
   "cell_type": "code",
   "execution_count": 6,
   "metadata": {},
   "outputs": [],
   "source": [
    "# plt.plot(M[:,0],M[:,1], linewidth=3)\n",
    "# plt.axis('equal');"
   ]
  }
 ],
 "metadata": {
  "kernelspec": {
   "display_name": "Python 3",
   "language": "python",
   "name": "python3"
  },
  "language_info": {
   "codemirror_mode": {
    "name": "ipython",
    "version": 3
   },
   "file_extension": ".py",
   "mimetype": "text/x-python",
   "name": "python",
   "nbconvert_exporter": "python",
   "pygments_lexer": "ipython3",
   "version": "3.7.6"
  }
 },
 "nbformat": 4,
 "nbformat_minor": 4
}
